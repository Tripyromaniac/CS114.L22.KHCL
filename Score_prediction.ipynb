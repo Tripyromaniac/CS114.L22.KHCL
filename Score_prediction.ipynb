{
  "nbformat": 4,
  "nbformat_minor": 0,
  "metadata": {
    "colab": {
      "name": "Score_prediction.ipynb",
      "provenance": [],
      "collapsed_sections": [],
      "authorship_tag": "ABX9TyP+TZ01KQShtMx1KAq75XEM",
      "include_colab_link": true
    },
    "kernelspec": {
      "display_name": "Python 3",
      "name": "python3"
    },
    "language_info": {
      "name": "python"
    }
  },
  "cells": [
    {
      "cell_type": "markdown",
      "metadata": {
        "id": "view-in-github",
        "colab_type": "text"
      },
      "source": [
        "<a href=\"https://colab.research.google.com/github/Tripyromaniac/CS114.L22.KHCL/blob/main/Score_prediction.ipynb\" target=\"_parent\"><img src=\"https://colab.research.google.com/assets/colab-badge.svg\" alt=\"Open In Colab\"/></a>"
      ]
    },
    {
      "cell_type": "code",
      "metadata": {
        "id": "iZMSnsCW3I5a"
      },
      "source": [
        "import numpy as np\n",
        "import pandas as pd\n",
        "import sqlite3 as sql\n",
        "import matplotlib.pyplot as plt\n",
        "from sklearn.linear_model import LinearRegression\n",
        "from sklearn.metrics import mean_squared_error"
      ],
      "execution_count": 2,
      "outputs": []
    },
    {
      "cell_type": "markdown",
      "metadata": {
        "id": "OWppK1LEypmx"
      },
      "source": [
        "#Đọc dữ liệu từ file csv"
      ]
    },
    {
      "cell_type": "markdown",
      "metadata": {
        "id": "-q_6skpsi3Zs"
      },
      "source": [
        "Đường liên kết đến nơi chứa 2 file dữ liệu:\n",
        "* https://drive.google.com/drive/folders/1WiAWEeYUQomTgIfk4wLsYidT_Io-_zGc?usp=sharing"
      ]
    },
    {
      "cell_type": "code",
      "metadata": {
        "id": "PdIhbkI03tTx"
      },
      "source": [
        "score = pd.read_csv(\"score_training.csv\")\n",
        "wecode = pd.read_csv(\"wecode.csv\")"
      ],
      "execution_count": 3,
      "outputs": []
    },
    {
      "cell_type": "markdown",
      "metadata": {
        "id": "1cbnmJhKy49m"
      },
      "source": [
        "#Thông tin về kiểu dữ liệu của các trường dữ liệu 2 file data"
      ]
    },
    {
      "cell_type": "code",
      "metadata": {
        "colab": {
          "base_uri": "https://localhost:8080/"
        },
        "id": "yjxHU4RcRLNy",
        "outputId": "bc7b5703-349f-494b-e840-b0958fcb9337"
      },
      "source": [
        "score.info()\n",
        "print()\n",
        "print()\n",
        "wecode.info()"
      ],
      "execution_count": 4,
      "outputs": [
        {
          "output_type": "stream",
          "text": [
            "<class 'pandas.core.frame.DataFrame'>\n",
            "RangeIndex: 975 entries, 0 to 974\n",
            "Data columns (total 7 columns):\n",
            " #   Column  Non-Null Count  Dtype \n",
            "---  ------  --------------  ----- \n",
            " 0   id      975 non-null    int64 \n",
            " 1   QT      973 non-null    object\n",
            " 2   GK      974 non-null    object\n",
            " 3   TH      974 non-null    object\n",
            " 4   CK      974 non-null    object\n",
            " 5   TBM     974 non-null    object\n",
            " 6   TBTL    974 non-null    object\n",
            "dtypes: int64(1), object(6)\n",
            "memory usage: 53.4+ KB\n",
            "\n",
            "\n",
            "<class 'pandas.core.frame.DataFrame'>\n",
            "RangeIndex: 264606 entries, 0 to 264605\n",
            "Data columns (total 12 columns):\n",
            " #   Column         Non-Null Count   Dtype \n",
            "---  ------         --------------   ----- \n",
            " 0   id             264606 non-null  int64 \n",
            " 1   assignment_id  264606 non-null  int64 \n",
            " 2   problem_id     264606 non-null  int64 \n",
            " 3   user_id        264606 non-null  int64 \n",
            " 4   is_final       264606 non-null  int64 \n",
            " 5   status         264605 non-null  object\n",
            " 6   pre_score      264606 non-null  int64 \n",
            " 7   coefficient    264606 non-null  object\n",
            " 8   file_name      264606 non-null  object\n",
            " 9   language_id    264606 non-null  int64 \n",
            " 10  created_at     264606 non-null  object\n",
            " 11  updated_at     264606 non-null  object\n",
            "dtypes: int64(7), object(5)\n",
            "memory usage: 24.2+ MB\n"
          ],
          "name": "stdout"
        }
      ]
    },
    {
      "cell_type": "markdown",
      "metadata": {
        "id": "k5mxZlbRzHeR"
      },
      "source": [
        "#Thông tin của 2 file .csv"
      ]
    },
    {
      "cell_type": "markdown",
      "metadata": {
        "id": "aMOt3Pmhzax6"
      },
      "source": [
        "score_training.csv"
      ]
    },
    {
      "cell_type": "code",
      "metadata": {
        "colab": {
          "base_uri": "https://localhost:8080/",
          "height": 376
        },
        "id": "Tn-ydBjq358w",
        "outputId": "d02302ed-a8ba-429b-a42f-6c61c1e5b3d7"
      },
      "source": [
        "print(\"Data samples:\" ,len(score['id']))\n",
        "score.head(10)"
      ],
      "execution_count": 5,
      "outputs": [
        {
          "output_type": "stream",
          "text": [
            "Data samples: 975\n"
          ],
          "name": "stdout"
        },
        {
          "output_type": "execute_result",
          "data": {
            "text/html": [
              "<div>\n",
              "<style scoped>\n",
              "    .dataframe tbody tr th:only-of-type {\n",
              "        vertical-align: middle;\n",
              "    }\n",
              "\n",
              "    .dataframe tbody tr th {\n",
              "        vertical-align: top;\n",
              "    }\n",
              "\n",
              "    .dataframe thead th {\n",
              "        text-align: right;\n",
              "    }\n",
              "</style>\n",
              "<table border=\"1\" class=\"dataframe\">\n",
              "  <thead>\n",
              "    <tr style=\"text-align: right;\">\n",
              "      <th></th>\n",
              "      <th>id</th>\n",
              "      <th>QT</th>\n",
              "      <th>GK</th>\n",
              "      <th>TH</th>\n",
              "      <th>CK</th>\n",
              "      <th>TBM</th>\n",
              "      <th>TBTL</th>\n",
              "    </tr>\n",
              "  </thead>\n",
              "  <tbody>\n",
              "    <tr>\n",
              "      <th>0</th>\n",
              "      <td>22</td>\n",
              "      <td>10</td>\n",
              "      <td>9</td>\n",
              "      <td>8.5</td>\n",
              "      <td>8.5</td>\n",
              "      <td>8.8</td>\n",
              "      <td>8.52</td>\n",
              "    </tr>\n",
              "    <tr>\n",
              "      <th>1</th>\n",
              "      <td>24</td>\n",
              "      <td>10</td>\n",
              "      <td>8</td>\n",
              "      <td>10</td>\n",
              "      <td>9.5</td>\n",
              "      <td>9.4</td>\n",
              "      <td>8.41</td>\n",
              "    </tr>\n",
              "    <tr>\n",
              "      <th>2</th>\n",
              "      <td>27</td>\n",
              "      <td>10</td>\n",
              "      <td>10</td>\n",
              "      <td>10</td>\n",
              "      <td>10</td>\n",
              "      <td>10</td>\n",
              "      <td>8.67</td>\n",
              "    </tr>\n",
              "    <tr>\n",
              "      <th>3</th>\n",
              "      <td>28</td>\n",
              "      <td>10</td>\n",
              "      <td>9.5</td>\n",
              "      <td>7.5</td>\n",
              "      <td>9.5</td>\n",
              "      <td>9.2</td>\n",
              "      <td>7.39</td>\n",
              "    </tr>\n",
              "    <tr>\n",
              "      <th>4</th>\n",
              "      <td>29</td>\n",
              "      <td>10</td>\n",
              "      <td>9.5</td>\n",
              "      <td>5</td>\n",
              "      <td>8.5</td>\n",
              "      <td>8.2</td>\n",
              "      <td>8.05</td>\n",
              "    </tr>\n",
              "    <tr>\n",
              "      <th>5</th>\n",
              "      <td>30</td>\n",
              "      <td>10</td>\n",
              "      <td>10</td>\n",
              "      <td>9</td>\n",
              "      <td>9</td>\n",
              "      <td>9.3</td>\n",
              "      <td>8.63</td>\n",
              "    </tr>\n",
              "    <tr>\n",
              "      <th>6</th>\n",
              "      <td>34</td>\n",
              "      <td></td>\n",
              "      <td></td>\n",
              "      <td>9</td>\n",
              "      <td>6.5</td>\n",
              "      <td></td>\n",
              "      <td>6.24</td>\n",
              "    </tr>\n",
              "    <tr>\n",
              "      <th>7</th>\n",
              "      <td>35</td>\n",
              "      <td>7</td>\n",
              "      <td>9.5</td>\n",
              "      <td>6</td>\n",
              "      <td>4.5</td>\n",
              "      <td>6.2</td>\n",
              "      <td>5.75</td>\n",
              "    </tr>\n",
              "    <tr>\n",
              "      <th>8</th>\n",
              "      <td>36</td>\n",
              "      <td>4.5</td>\n",
              "      <td>8</td>\n",
              "      <td>9</td>\n",
              "      <td>7</td>\n",
              "      <td>7.6</td>\n",
              "      <td>8.51</td>\n",
              "    </tr>\n",
              "    <tr>\n",
              "      <th>9</th>\n",
              "      <td>37</td>\n",
              "      <td>5.5</td>\n",
              "      <td>5.5</td>\n",
              "      <td>7.5</td>\n",
              "      <td>7.5</td>\n",
              "      <td>6.9</td>\n",
              "      <td>8.27</td>\n",
              "    </tr>\n",
              "  </tbody>\n",
              "</table>\n",
              "</div>"
            ],
            "text/plain": [
              "   id   QT   GK   TH   CK  TBM  TBTL\n",
              "0  22   10    9  8.5  8.5  8.8  8.52\n",
              "1  24   10    8   10  9.5  9.4  8.41\n",
              "2  27   10   10   10   10   10  8.67\n",
              "3  28   10  9.5  7.5  9.5  9.2  7.39\n",
              "4  29   10  9.5    5  8.5  8.2  8.05\n",
              "5  30   10   10    9    9  9.3  8.63\n",
              "6  34              9  6.5       6.24\n",
              "7  35    7  9.5    6  4.5  6.2  5.75\n",
              "8  36  4.5    8    9    7  7.6  8.51\n",
              "9  37  5.5  5.5  7.5  7.5  6.9  8.27"
            ]
          },
          "metadata": {
            "tags": []
          },
          "execution_count": 5
        }
      ]
    },
    {
      "cell_type": "markdown",
      "metadata": {
        "id": "R7u_g31zzhGP"
      },
      "source": [
        "wecode.csv"
      ]
    },
    {
      "cell_type": "code",
      "metadata": {
        "colab": {
          "base_uri": "https://localhost:8080/",
          "height": 376
        },
        "id": "NcoWKKg438V-",
        "outputId": "b7aaaaa8-bb1f-4497-fdda-90a1fa9eeb24"
      },
      "source": [
        "print(\"Data samples:\" ,len(wecode['id']))\n",
        "#print(\"Submitted users:\", len(wecode['user_id'].unique()))\n",
        "wecode['coefficient'] = pd.to_numeric(wecode['coefficient'], errors='coerce')\n",
        "wecode['coefficient'] = wecode['coefficient'].fillna(100)\n",
        "wecode.head(10)"
      ],
      "execution_count": 6,
      "outputs": [
        {
          "output_type": "stream",
          "text": [
            "Data samples: 264606\n"
          ],
          "name": "stdout"
        },
        {
          "output_type": "execute_result",
          "data": {
            "text/html": [
              "<div>\n",
              "<style scoped>\n",
              "    .dataframe tbody tr th:only-of-type {\n",
              "        vertical-align: middle;\n",
              "    }\n",
              "\n",
              "    .dataframe tbody tr th {\n",
              "        vertical-align: top;\n",
              "    }\n",
              "\n",
              "    .dataframe thead th {\n",
              "        text-align: right;\n",
              "    }\n",
              "</style>\n",
              "<table border=\"1\" class=\"dataframe\">\n",
              "  <thead>\n",
              "    <tr style=\"text-align: right;\">\n",
              "      <th></th>\n",
              "      <th>id</th>\n",
              "      <th>assignment_id</th>\n",
              "      <th>problem_id</th>\n",
              "      <th>user_id</th>\n",
              "      <th>is_final</th>\n",
              "      <th>status</th>\n",
              "      <th>pre_score</th>\n",
              "      <th>coefficient</th>\n",
              "      <th>file_name</th>\n",
              "      <th>language_id</th>\n",
              "      <th>created_at</th>\n",
              "      <th>updated_at</th>\n",
              "    </tr>\n",
              "  </thead>\n",
              "  <tbody>\n",
              "    <tr>\n",
              "      <th>0</th>\n",
              "      <td>4</td>\n",
              "      <td>0</td>\n",
              "      <td>3</td>\n",
              "      <td>4</td>\n",
              "      <td>1</td>\n",
              "      <td>SCORE</td>\n",
              "      <td>10000</td>\n",
              "      <td>100.0</td>\n",
              "      <td>solution-0</td>\n",
              "      <td>2</td>\n",
              "      <td>30/10/2020 10:58</td>\n",
              "      <td>30/10/2020 10:58</td>\n",
              "    </tr>\n",
              "    <tr>\n",
              "      <th>1</th>\n",
              "      <td>5</td>\n",
              "      <td>0</td>\n",
              "      <td>4</td>\n",
              "      <td>4</td>\n",
              "      <td>1</td>\n",
              "      <td>SCORE</td>\n",
              "      <td>10000</td>\n",
              "      <td>100.0</td>\n",
              "      <td>solution-1</td>\n",
              "      <td>2</td>\n",
              "      <td>30/10/2020 11:07</td>\n",
              "      <td>30/10/2020 11:07</td>\n",
              "    </tr>\n",
              "    <tr>\n",
              "      <th>2</th>\n",
              "      <td>6</td>\n",
              "      <td>0</td>\n",
              "      <td>5</td>\n",
              "      <td>4</td>\n",
              "      <td>0</td>\n",
              "      <td>Compilation Error</td>\n",
              "      <td>0</td>\n",
              "      <td>100.0</td>\n",
              "      <td>solution-2</td>\n",
              "      <td>2</td>\n",
              "      <td>30/10/2020 11:08</td>\n",
              "      <td>30/10/2020 11:23</td>\n",
              "    </tr>\n",
              "    <tr>\n",
              "      <th>3</th>\n",
              "      <td>7</td>\n",
              "      <td>0</td>\n",
              "      <td>5</td>\n",
              "      <td>4</td>\n",
              "      <td>0</td>\n",
              "      <td>Compilation Error</td>\n",
              "      <td>0</td>\n",
              "      <td>100.0</td>\n",
              "      <td>solution-3</td>\n",
              "      <td>2</td>\n",
              "      <td>30/10/2020 11:11</td>\n",
              "      <td>30/10/2020 11:11</td>\n",
              "    </tr>\n",
              "    <tr>\n",
              "      <th>4</th>\n",
              "      <td>8</td>\n",
              "      <td>0</td>\n",
              "      <td>5</td>\n",
              "      <td>4</td>\n",
              "      <td>0</td>\n",
              "      <td>Compilation Error</td>\n",
              "      <td>0</td>\n",
              "      <td>100.0</td>\n",
              "      <td>solution-4</td>\n",
              "      <td>2</td>\n",
              "      <td>30/10/2020 11:15</td>\n",
              "      <td>30/10/2020 11:15</td>\n",
              "    </tr>\n",
              "    <tr>\n",
              "      <th>5</th>\n",
              "      <td>9</td>\n",
              "      <td>0</td>\n",
              "      <td>5</td>\n",
              "      <td>4</td>\n",
              "      <td>0</td>\n",
              "      <td>Compilation Error</td>\n",
              "      <td>0</td>\n",
              "      <td>100.0</td>\n",
              "      <td>solution-5</td>\n",
              "      <td>2</td>\n",
              "      <td>30/10/2020 11:16</td>\n",
              "      <td>30/10/2020 11:16</td>\n",
              "    </tr>\n",
              "    <tr>\n",
              "      <th>6</th>\n",
              "      <td>10</td>\n",
              "      <td>0</td>\n",
              "      <td>6</td>\n",
              "      <td>4</td>\n",
              "      <td>1</td>\n",
              "      <td>SCORE</td>\n",
              "      <td>10000</td>\n",
              "      <td>100.0</td>\n",
              "      <td>solution-6</td>\n",
              "      <td>2</td>\n",
              "      <td>30/10/2020 11:18</td>\n",
              "      <td>30/10/2020 11:18</td>\n",
              "    </tr>\n",
              "    <tr>\n",
              "      <th>7</th>\n",
              "      <td>11</td>\n",
              "      <td>0</td>\n",
              "      <td>7</td>\n",
              "      <td>4</td>\n",
              "      <td>1</td>\n",
              "      <td>SCORE</td>\n",
              "      <td>10000</td>\n",
              "      <td>100.0</td>\n",
              "      <td>solution-7</td>\n",
              "      <td>2</td>\n",
              "      <td>30/10/2020 11:20</td>\n",
              "      <td>30/10/2020 11:20</td>\n",
              "    </tr>\n",
              "    <tr>\n",
              "      <th>8</th>\n",
              "      <td>12</td>\n",
              "      <td>0</td>\n",
              "      <td>8</td>\n",
              "      <td>4</td>\n",
              "      <td>1</td>\n",
              "      <td>SCORE</td>\n",
              "      <td>10000</td>\n",
              "      <td>100.0</td>\n",
              "      <td>solution-8</td>\n",
              "      <td>2</td>\n",
              "      <td>30/10/2020 11:21</td>\n",
              "      <td>30/10/2020 11:21</td>\n",
              "    </tr>\n",
              "    <tr>\n",
              "      <th>9</th>\n",
              "      <td>13</td>\n",
              "      <td>0</td>\n",
              "      <td>9</td>\n",
              "      <td>4</td>\n",
              "      <td>1</td>\n",
              "      <td>SCORE</td>\n",
              "      <td>10000</td>\n",
              "      <td>100.0</td>\n",
              "      <td>solution-9</td>\n",
              "      <td>2</td>\n",
              "      <td>30/10/2020 11:21</td>\n",
              "      <td>30/10/2020 11:21</td>\n",
              "    </tr>\n",
              "  </tbody>\n",
              "</table>\n",
              "</div>"
            ],
            "text/plain": [
              "   id  assignment_id  ...        created_at        updated_at\n",
              "0   4              0  ...  30/10/2020 10:58  30/10/2020 10:58\n",
              "1   5              0  ...  30/10/2020 11:07  30/10/2020 11:07\n",
              "2   6              0  ...  30/10/2020 11:08  30/10/2020 11:23\n",
              "3   7              0  ...  30/10/2020 11:11  30/10/2020 11:11\n",
              "4   8              0  ...  30/10/2020 11:15  30/10/2020 11:15\n",
              "5   9              0  ...  30/10/2020 11:16  30/10/2020 11:16\n",
              "6  10              0  ...  30/10/2020 11:18  30/10/2020 11:18\n",
              "7  11              0  ...  30/10/2020 11:20  30/10/2020 11:20\n",
              "8  12              0  ...  30/10/2020 11:21  30/10/2020 11:21\n",
              "9  13              0  ...  30/10/2020 11:21  30/10/2020 11:21\n",
              "\n",
              "[10 rows x 12 columns]"
            ]
          },
          "metadata": {
            "tags": []
          },
          "execution_count": 6
        }
      ]
    },
    {
      "cell_type": "markdown",
      "metadata": {
        "id": "ulJcBfU32Ztu"
      },
      "source": [
        "#Tổng hợp thông tin từ file dữ liệu wecode.csv"
      ]
    },
    {
      "cell_type": "markdown",
      "metadata": {
        "id": "d8nqgUhW3Uel"
      },
      "source": [
        "Tổng số problem đã giải, số lần nộp, tỷ số lần nộp/problem đã giải, hệ số nộp trễ trung bình"
      ]
    },
    {
      "cell_type": "code",
      "metadata": {
        "colab": {
          "base_uri": "https://localhost:8080/",
          "height": 390
        },
        "id": "odGvEgRwDxgE",
        "outputId": "f86ca993-3c02-46e8-8f23-f07073bf0666"
      },
      "source": [
        "solved_per_user = wecode[wecode[\"pre_score\"]==10000].groupby(\"user_id\")[\"problem_id\"].agg(solved = \"nunique\")\n",
        "\n",
        "solved_per_user['submitted'] = wecode.groupby(\"user_id\")[\"id\"].agg(count = \"nunique\")\n",
        "solved_per_user['tries_per_problem'] = round((solved_per_user['submitted']  / solved_per_user['solved']), 2)\n",
        "solved_per_user['average_coefficient'] = wecode[wecode[\"pre_score\"]>=0].groupby(\"user_id\")[\"coefficient\"].agg(average_coefficient = \"sum\")\n",
        "solved_per_user['average_coefficient'] = solved_per_user['average_coefficient']/ solved_per_user['submitted']\n",
        "solved_per_user.head(10)\n"
      ],
      "execution_count": 7,
      "outputs": [
        {
          "output_type": "execute_result",
          "data": {
            "text/html": [
              "<div>\n",
              "<style scoped>\n",
              "    .dataframe tbody tr th:only-of-type {\n",
              "        vertical-align: middle;\n",
              "    }\n",
              "\n",
              "    .dataframe tbody tr th {\n",
              "        vertical-align: top;\n",
              "    }\n",
              "\n",
              "    .dataframe thead th {\n",
              "        text-align: right;\n",
              "    }\n",
              "</style>\n",
              "<table border=\"1\" class=\"dataframe\">\n",
              "  <thead>\n",
              "    <tr style=\"text-align: right;\">\n",
              "      <th></th>\n",
              "      <th>solved</th>\n",
              "      <th>submitted</th>\n",
              "      <th>tries_per_problem</th>\n",
              "      <th>average_coefficient</th>\n",
              "    </tr>\n",
              "    <tr>\n",
              "      <th>user_id</th>\n",
              "      <th></th>\n",
              "      <th></th>\n",
              "      <th></th>\n",
              "      <th></th>\n",
              "    </tr>\n",
              "  </thead>\n",
              "  <tbody>\n",
              "    <tr>\n",
              "      <th>1</th>\n",
              "      <td>1</td>\n",
              "      <td>2</td>\n",
              "      <td>2.00</td>\n",
              "      <td>100.0</td>\n",
              "    </tr>\n",
              "    <tr>\n",
              "      <th>4</th>\n",
              "      <td>40</td>\n",
              "      <td>54</td>\n",
              "      <td>1.35</td>\n",
              "      <td>100.0</td>\n",
              "    </tr>\n",
              "    <tr>\n",
              "      <th>5</th>\n",
              "      <td>3</td>\n",
              "      <td>6</td>\n",
              "      <td>2.00</td>\n",
              "      <td>100.0</td>\n",
              "    </tr>\n",
              "    <tr>\n",
              "      <th>6</th>\n",
              "      <td>85</td>\n",
              "      <td>130</td>\n",
              "      <td>1.53</td>\n",
              "      <td>100.0</td>\n",
              "    </tr>\n",
              "    <tr>\n",
              "      <th>11</th>\n",
              "      <td>12</td>\n",
              "      <td>50</td>\n",
              "      <td>4.17</td>\n",
              "      <td>100.4</td>\n",
              "    </tr>\n",
              "    <tr>\n",
              "      <th>14</th>\n",
              "      <td>6</td>\n",
              "      <td>22</td>\n",
              "      <td>3.67</td>\n",
              "      <td>100.0</td>\n",
              "    </tr>\n",
              "    <tr>\n",
              "      <th>15</th>\n",
              "      <td>45</td>\n",
              "      <td>101</td>\n",
              "      <td>2.24</td>\n",
              "      <td>100.0</td>\n",
              "    </tr>\n",
              "    <tr>\n",
              "      <th>20</th>\n",
              "      <td>12</td>\n",
              "      <td>13</td>\n",
              "      <td>1.08</td>\n",
              "      <td>100.0</td>\n",
              "    </tr>\n",
              "    <tr>\n",
              "      <th>24</th>\n",
              "      <td>73</td>\n",
              "      <td>164</td>\n",
              "      <td>2.25</td>\n",
              "      <td>100.0</td>\n",
              "    </tr>\n",
              "    <tr>\n",
              "      <th>27</th>\n",
              "      <td>3</td>\n",
              "      <td>13</td>\n",
              "      <td>4.33</td>\n",
              "      <td>100.0</td>\n",
              "    </tr>\n",
              "  </tbody>\n",
              "</table>\n",
              "</div>"
            ],
            "text/plain": [
              "         solved  submitted  tries_per_problem  average_coefficient\n",
              "user_id                                                           \n",
              "1             1          2               2.00                100.0\n",
              "4            40         54               1.35                100.0\n",
              "5             3          6               2.00                100.0\n",
              "6            85        130               1.53                100.0\n",
              "11           12         50               4.17                100.4\n",
              "14            6         22               3.67                100.0\n",
              "15           45        101               2.24                100.0\n",
              "20           12         13               1.08                100.0\n",
              "24           73        164               2.25                100.0\n",
              "27            3         13               4.33                100.0"
            ]
          },
          "metadata": {
            "tags": []
          },
          "execution_count": 7
        }
      ]
    },
    {
      "cell_type": "markdown",
      "metadata": {
        "id": "6YmF_B_32LBu"
      },
      "source": [
        "Tổng điểm đạt được của từng user "
      ]
    },
    {
      "cell_type": "code",
      "metadata": {
        "colab": {
          "base_uri": "https://localhost:8080/",
          "height": 235
        },
        "id": "Tzp0WnB7FX8_",
        "outputId": "b7b3ec6c-98ee-48cf-cdac-70395908f2c3"
      },
      "source": [
        "Total_wecode_score = wecode[wecode['is_final'] == 1]\n",
        "Total_wecode_score = Total_wecode_score[['user_id', 'pre_score', 'coefficient']] \n",
        "Total_wecode_score = Total_wecode_score[Total_wecode_score['coefficient'] != 'error']\n",
        "Total_wecode_score['score'] = (Total_wecode_score['pre_score']*pd.to_numeric(Total_wecode_score['coefficient']))/100\n",
        "\n",
        "Total_wecode_score = Total_wecode_score.groupby(\"user_id\")[\"score\"].agg(total_score = \"sum\")\n",
        "Total_wecode_score.head(5)"
      ],
      "execution_count": 8,
      "outputs": [
        {
          "output_type": "execute_result",
          "data": {
            "text/html": [
              "<div>\n",
              "<style scoped>\n",
              "    .dataframe tbody tr th:only-of-type {\n",
              "        vertical-align: middle;\n",
              "    }\n",
              "\n",
              "    .dataframe tbody tr th {\n",
              "        vertical-align: top;\n",
              "    }\n",
              "\n",
              "    .dataframe thead th {\n",
              "        text-align: right;\n",
              "    }\n",
              "</style>\n",
              "<table border=\"1\" class=\"dataframe\">\n",
              "  <thead>\n",
              "    <tr style=\"text-align: right;\">\n",
              "      <th></th>\n",
              "      <th>total_score</th>\n",
              "    </tr>\n",
              "    <tr>\n",
              "      <th>user_id</th>\n",
              "      <th></th>\n",
              "    </tr>\n",
              "  </thead>\n",
              "  <tbody>\n",
              "    <tr>\n",
              "      <th>1</th>\n",
              "      <td>10000.0</td>\n",
              "    </tr>\n",
              "    <tr>\n",
              "      <th>4</th>\n",
              "      <td>370000.0</td>\n",
              "    </tr>\n",
              "    <tr>\n",
              "      <th>5</th>\n",
              "      <td>30000.0</td>\n",
              "    </tr>\n",
              "    <tr>\n",
              "      <th>6</th>\n",
              "      <td>850000.0</td>\n",
              "    </tr>\n",
              "    <tr>\n",
              "      <th>7</th>\n",
              "      <td>9209.0</td>\n",
              "    </tr>\n",
              "  </tbody>\n",
              "</table>\n",
              "</div>"
            ],
            "text/plain": [
              "         total_score\n",
              "user_id             \n",
              "1            10000.0\n",
              "4           370000.0\n",
              "5            30000.0\n",
              "6           850000.0\n",
              "7             9209.0"
            ]
          },
          "metadata": {
            "tags": []
          },
          "execution_count": 8
        }
      ]
    },
    {
      "cell_type": "code",
      "metadata": {
        "id": "A_8VBrF2PXyO"
      },
      "source": [
        "TB = score[['id', 'TBM']]\n",
        "\n",
        "result = pd.merge(Total_wecode_score, TB, how = 'inner', left_on='user_id', right_on='id')\n",
        "result['TBM'] = pd.to_numeric(result['TBM'], errors='coerce')\n",
        "#result.head(5)"
      ],
      "execution_count": 9,
      "outputs": []
    },
    {
      "cell_type": "markdown",
      "metadata": {
        "id": "fvsNK8rG29m5"
      },
      "source": [
        "#Tổng hợp toàn bộ thông tin có thể ảnh hưởng tới TBM của sinh viên và vẽ biểu đồ"
      ]
    },
    {
      "cell_type": "code",
      "metadata": {
        "colab": {
          "base_uri": "https://localhost:8080/",
          "height": 359
        },
        "id": "h9MJjZw4ORms",
        "outputId": "15cf564e-02ae-4137-d3e2-948ce03e0857"
      },
      "source": [
        "result2 = pd.merge(solved_per_user, TB, how = 'inner', left_on='user_id', right_on='id')\n",
        "result2['TBM'] = pd.to_numeric(result2['TBM'], errors='coerce')\n",
        "\n",
        "result2 = pd.merge(result2, Total_wecode_score, how = 'inner', left_on='id', right_on='user_id')\n",
        "\n",
        "columns_titles = [\"id\", \"submitted\", \"solved\", \"tries_per_problem\", 'average_coefficient', \"total_score\", \"TBM\"]\n",
        "result2 = result2.reindex(columns=columns_titles)\n",
        "\n",
        "result2.head(10)"
      ],
      "execution_count": 10,
      "outputs": [
        {
          "output_type": "execute_result",
          "data": {
            "text/html": [
              "<div>\n",
              "<style scoped>\n",
              "    .dataframe tbody tr th:only-of-type {\n",
              "        vertical-align: middle;\n",
              "    }\n",
              "\n",
              "    .dataframe tbody tr th {\n",
              "        vertical-align: top;\n",
              "    }\n",
              "\n",
              "    .dataframe thead th {\n",
              "        text-align: right;\n",
              "    }\n",
              "</style>\n",
              "<table border=\"1\" class=\"dataframe\">\n",
              "  <thead>\n",
              "    <tr style=\"text-align: right;\">\n",
              "      <th></th>\n",
              "      <th>id</th>\n",
              "      <th>submitted</th>\n",
              "      <th>solved</th>\n",
              "      <th>tries_per_problem</th>\n",
              "      <th>average_coefficient</th>\n",
              "      <th>total_score</th>\n",
              "      <th>TBM</th>\n",
              "    </tr>\n",
              "  </thead>\n",
              "  <tbody>\n",
              "    <tr>\n",
              "      <th>0</th>\n",
              "      <td>24</td>\n",
              "      <td>164</td>\n",
              "      <td>73</td>\n",
              "      <td>2.25</td>\n",
              "      <td>100.000000</td>\n",
              "      <td>750299.0</td>\n",
              "      <td>9.4</td>\n",
              "    </tr>\n",
              "    <tr>\n",
              "      <th>1</th>\n",
              "      <td>27</td>\n",
              "      <td>13</td>\n",
              "      <td>3</td>\n",
              "      <td>4.33</td>\n",
              "      <td>100.000000</td>\n",
              "      <td>39000.0</td>\n",
              "      <td>10.0</td>\n",
              "    </tr>\n",
              "    <tr>\n",
              "      <th>2</th>\n",
              "      <td>29</td>\n",
              "      <td>199</td>\n",
              "      <td>72</td>\n",
              "      <td>2.76</td>\n",
              "      <td>100.000000</td>\n",
              "      <td>762760.0</td>\n",
              "      <td>8.2</td>\n",
              "    </tr>\n",
              "    <tr>\n",
              "      <th>3</th>\n",
              "      <td>34</td>\n",
              "      <td>218</td>\n",
              "      <td>81</td>\n",
              "      <td>2.69</td>\n",
              "      <td>100.000000</td>\n",
              "      <td>822888.0</td>\n",
              "      <td>NaN</td>\n",
              "    </tr>\n",
              "    <tr>\n",
              "      <th>4</th>\n",
              "      <td>35</td>\n",
              "      <td>297</td>\n",
              "      <td>141</td>\n",
              "      <td>2.11</td>\n",
              "      <td>100.000000</td>\n",
              "      <td>1477000.0</td>\n",
              "      <td>6.2</td>\n",
              "    </tr>\n",
              "    <tr>\n",
              "      <th>5</th>\n",
              "      <td>37</td>\n",
              "      <td>312</td>\n",
              "      <td>93</td>\n",
              "      <td>3.35</td>\n",
              "      <td>100.000000</td>\n",
              "      <td>979712.0</td>\n",
              "      <td>6.9</td>\n",
              "    </tr>\n",
              "    <tr>\n",
              "      <th>6</th>\n",
              "      <td>40</td>\n",
              "      <td>664</td>\n",
              "      <td>186</td>\n",
              "      <td>3.57</td>\n",
              "      <td>88.704819</td>\n",
              "      <td>1871388.0</td>\n",
              "      <td>8.6</td>\n",
              "    </tr>\n",
              "    <tr>\n",
              "      <th>7</th>\n",
              "      <td>41</td>\n",
              "      <td>110</td>\n",
              "      <td>62</td>\n",
              "      <td>1.77</td>\n",
              "      <td>100.000000</td>\n",
              "      <td>636888.0</td>\n",
              "      <td>NaN</td>\n",
              "    </tr>\n",
              "    <tr>\n",
              "      <th>8</th>\n",
              "      <td>42</td>\n",
              "      <td>324</td>\n",
              "      <td>179</td>\n",
              "      <td>1.81</td>\n",
              "      <td>100.000000</td>\n",
              "      <td>1925142.0</td>\n",
              "      <td>8.5</td>\n",
              "    </tr>\n",
              "    <tr>\n",
              "      <th>9</th>\n",
              "      <td>43</td>\n",
              "      <td>448</td>\n",
              "      <td>94</td>\n",
              "      <td>4.77</td>\n",
              "      <td>100.000000</td>\n",
              "      <td>1541357.0</td>\n",
              "      <td>7.2</td>\n",
              "    </tr>\n",
              "  </tbody>\n",
              "</table>\n",
              "</div>"
            ],
            "text/plain": [
              "   id  submitted  solved  ...  average_coefficient  total_score   TBM\n",
              "0  24        164      73  ...           100.000000     750299.0   9.4\n",
              "1  27         13       3  ...           100.000000      39000.0  10.0\n",
              "2  29        199      72  ...           100.000000     762760.0   8.2\n",
              "3  34        218      81  ...           100.000000     822888.0   NaN\n",
              "4  35        297     141  ...           100.000000    1477000.0   6.2\n",
              "5  37        312      93  ...           100.000000     979712.0   6.9\n",
              "6  40        664     186  ...            88.704819    1871388.0   8.6\n",
              "7  41        110      62  ...           100.000000     636888.0   NaN\n",
              "8  42        324     179  ...           100.000000    1925142.0   8.5\n",
              "9  43        448      94  ...           100.000000    1541357.0   7.2\n",
              "\n",
              "[10 rows x 7 columns]"
            ]
          },
          "metadata": {
            "tags": []
          },
          "execution_count": 10
        }
      ]
    },
    {
      "cell_type": "code",
      "metadata": {
        "colab": {
          "base_uri": "https://localhost:8080/",
          "height": 297
        },
        "id": "GiNmsvlKXLt-",
        "outputId": "1ea3d2e5-3228-4a71-e057-dd95faec1f9b"
      },
      "source": [
        "result2.plot(x='tries_per_problem', y='TBM', style='.',)"
      ],
      "execution_count": 11,
      "outputs": [
        {
          "output_type": "execute_result",
          "data": {
            "text/plain": [
              "<matplotlib.axes._subplots.AxesSubplot at 0x7f228af8d110>"
            ]
          },
          "metadata": {
            "tags": []
          },
          "execution_count": 11
        },
        {
          "output_type": "display_data",
          "data": {
            "image/png": "[encoded data removed]",
            "text/plain": [
              "<Figure size 432x288 with 1 Axes>"
            ]
          },
          "metadata": {
            "tags": [],
            "needs_background": "light"
          }
        }
      ]
    },
    {
      "cell_type": "markdown",
      "metadata": {
        "id": "GfxAzhvn3wst"
      },
      "source": [
        "* **Nhận xét:** Dữ liệu trải đều trên miền điểm TBM nhưng ở miền lần thử/problem lại chỉ tập trung quanh đoạn [0 ; 5]"
      ]
    },
    {
      "cell_type": "code",
      "metadata": {
        "colab": {
          "base_uri": "https://localhost:8080/",
          "height": 297
        },
        "id": "lqZjCbjx4d3X",
        "outputId": "139b4d1e-5a5c-445b-a888-1a0a2e2c781f"
      },
      "source": [
        "result2.plot(x='total_score', y='TBM', style='.', )"
      ],
      "execution_count": 12,
      "outputs": [
        {
          "output_type": "execute_result",
          "data": {
            "text/plain": [
              "<matplotlib.axes._subplots.AxesSubplot at 0x7f228af5ddd0>"
            ]
          },
          "metadata": {
            "tags": []
          },
          "execution_count": 12
        },
        {
          "output_type": "display_data",
          "data": {
            "image/png": "[encoded data removed]",
            "text/plain": [
              "<Figure size 432x288 with 1 Axes>"
            ]
          },
          "metadata": {
            "tags": [],
            "needs_background": "light"
          }
        }
      ]
    },
    {
      "cell_type": "markdown",
      "metadata": {
        "id": "etygqNFU4gqK"
      },
      "source": [
        "* **Nhận xét:** Các điểm dữ liệu tuy đã hình thành nên một đường thẳng tuyến tính mờ nhưng dữ liệu có giá trị TBM trong khoảng [4;9] lại tập trung nhiều quanh đoạn có giá trị total_score trong khoảng [0.75;1.1]"
      ]
    },
    {
      "cell_type": "code",
      "metadata": {
        "colab": {
          "base_uri": "https://localhost:8080/",
          "height": 296
        },
        "id": "O0z3wTS26cwT",
        "outputId": "53661fd0-ef93-42b4-a148-22acc0414054"
      },
      "source": [
        "result2.plot(x='solved', y='TBM', style='.', )"
      ],
      "execution_count": 13,
      "outputs": [
        {
          "output_type": "execute_result",
          "data": {
            "text/plain": [
              "<matplotlib.axes._subplots.AxesSubplot at 0x7f228aa2df90>"
            ]
          },
          "metadata": {
            "tags": []
          },
          "execution_count": 13
        },
        {
          "output_type": "display_data",
          "data": {
            "image/png": "[encoded data removed]",
            "text/plain": [
              "<Figure size 432x288 with 1 Axes>"
            ]
          },
          "metadata": {
            "tags": [],
            "needs_background": "light"
          }
        }
      ]
    },
    {
      "cell_type": "markdown",
      "metadata": {
        "id": "9CeR6mi56g9l"
      },
      "source": [
        "* **Nhận xét:** Đường tuyến tính hình thành ở biểu đồ này có phần dày hơn tuy nhiên vẫn mở và điểm dữ liệu có giá trị TBM trong khoảng [4;10] vẫn tập trung nhiều quanh đoạn có giá trị solved trong khoảng [75;100]\n",
        "\n"
      ]
    },
    {
      "cell_type": "code",
      "metadata": {
        "colab": {
          "base_uri": "https://localhost:8080/",
          "height": 296
        },
        "id": "RIMd9Avz_Qt8",
        "outputId": "3fa00063-6edf-4943-bcf2-a92d6c0ee8b3"
      },
      "source": [
        "result2.plot(x='submitted', y='TBM', style='.', )"
      ],
      "execution_count": 14,
      "outputs": [
        {
          "output_type": "execute_result",
          "data": {
            "text/plain": [
              "<matplotlib.axes._subplots.AxesSubplot at 0x7f228a9ada50>"
            ]
          },
          "metadata": {
            "tags": []
          },
          "execution_count": 14
        },
        {
          "output_type": "display_data",
          "data": {
            "image/png": "[encoded data removed]",
            "text/plain": [
              "<Figure size 432x288 with 1 Axes>"
            ]
          },
          "metadata": {
            "tags": [],
            "needs_background": "light"
          }
        }
      ]
    },
    {
      "cell_type": "markdown",
      "metadata": {
        "id": "c0u4Q646_bXN"
      },
      "source": [
        "* **Nhận xét:** Đường tuyến tính ở biểu đồ này chỉ chứa một phần nhỏ số lượng điểm giá trị nếu so với lượng điểm giá trị nằm trong khoảng TBM [4;10] và submitted [0:600]"
      ]
    },
    {
      "cell_type": "code",
      "metadata": {
        "colab": {
          "base_uri": "https://localhost:8080/",
          "height": 297
        },
        "id": "6BJhElQgAINC",
        "outputId": "d71ea37d-9e41-43f0-ab4e-cf6082e33809"
      },
      "source": [
        "result2.plot(x='average_coefficient', y='TBM', style='.', )"
      ],
      "execution_count": 15,
      "outputs": [
        {
          "output_type": "execute_result",
          "data": {
            "text/plain": [
              "<matplotlib.axes._subplots.AxesSubplot at 0x7f228a9a4f50>"
            ]
          },
          "metadata": {
            "tags": []
          },
          "execution_count": 15
        },
        {
          "output_type": "display_data",
          "data": {
            "image/png": "[encoded data removed]",
            "text/plain": [
              "<Figure size 432x288 with 1 Axes>"
            ]
          },
          "metadata": {
            "tags": [],
            "needs_background": "light"
          }
        }
      ]
    },
    {
      "cell_type": "markdown",
      "metadata": {
        "id": "aEaIRpW9WT4l"
      },
      "source": [
        "* **Nhận xét:** Đa số các điểm dữ liệu tập trung ở miền average_coefficient có giá trị 100"
      ]
    },
    {
      "cell_type": "markdown",
      "metadata": {
        "id": "HIWaXc5yATTx"
      },
      "source": [
        "#Phân tách dữ liệu và tiến hành dự đoán điểm"
      ]
    },
    {
      "cell_type": "markdown",
      "metadata": {
        "id": "7vw-pvoIAd8M"
      },
      "source": [
        "Lượng dữ liệu đã xác định điểm TBM"
      ]
    },
    {
      "cell_type": "code",
      "metadata": {
        "id": "ZA0sVhDaOuXu",
        "colab": {
          "base_uri": "https://localhost:8080/",
          "height": 221
        },
        "outputId": "62103c8f-0f60-4439-fd16-1de417337f12"
      },
      "source": [
        "data_full = result2[result2[\"TBM\"]>=0]\n",
        "print(\"Data samples:\" ,len(data_full['id']))\n",
        "data_full.head(5)\n"
      ],
      "execution_count": 16,
      "outputs": [
        {
          "output_type": "stream",
          "text": [
            "Data samples: 674\n"
          ],
          "name": "stdout"
        },
        {
          "output_type": "execute_result",
          "data": {
            "text/html": [
              "<div>\n",
              "<style scoped>\n",
              "    .dataframe tbody tr th:only-of-type {\n",
              "        vertical-align: middle;\n",
              "    }\n",
              "\n",
              "    .dataframe tbody tr th {\n",
              "        vertical-align: top;\n",
              "    }\n",
              "\n",
              "    .dataframe thead th {\n",
              "        text-align: right;\n",
              "    }\n",
              "</style>\n",
              "<table border=\"1\" class=\"dataframe\">\n",
              "  <thead>\n",
              "    <tr style=\"text-align: right;\">\n",
              "      <th></th>\n",
              "      <th>id</th>\n",
              "      <th>submitted</th>\n",
              "      <th>solved</th>\n",
              "      <th>tries_per_problem</th>\n",
              "      <th>average_coefficient</th>\n",
              "      <th>total_score</th>\n",
              "      <th>TBM</th>\n",
              "    </tr>\n",
              "  </thead>\n",
              "  <tbody>\n",
              "    <tr>\n",
              "      <th>0</th>\n",
              "      <td>24</td>\n",
              "      <td>164</td>\n",
              "      <td>73</td>\n",
              "      <td>2.25</td>\n",
              "      <td>100.0</td>\n",
              "      <td>750299.0</td>\n",
              "      <td>9.4</td>\n",
              "    </tr>\n",
              "    <tr>\n",
              "      <th>1</th>\n",
              "      <td>27</td>\n",
              "      <td>13</td>\n",
              "      <td>3</td>\n",
              "      <td>4.33</td>\n",
              "      <td>100.0</td>\n",
              "      <td>39000.0</td>\n",
              "      <td>10.0</td>\n",
              "    </tr>\n",
              "    <tr>\n",
              "      <th>2</th>\n",
              "      <td>29</td>\n",
              "      <td>199</td>\n",
              "      <td>72</td>\n",
              "      <td>2.76</td>\n",
              "      <td>100.0</td>\n",
              "      <td>762760.0</td>\n",
              "      <td>8.2</td>\n",
              "    </tr>\n",
              "    <tr>\n",
              "      <th>4</th>\n",
              "      <td>35</td>\n",
              "      <td>297</td>\n",
              "      <td>141</td>\n",
              "      <td>2.11</td>\n",
              "      <td>100.0</td>\n",
              "      <td>1477000.0</td>\n",
              "      <td>6.2</td>\n",
              "    </tr>\n",
              "    <tr>\n",
              "      <th>5</th>\n",
              "      <td>37</td>\n",
              "      <td>312</td>\n",
              "      <td>93</td>\n",
              "      <td>3.35</td>\n",
              "      <td>100.0</td>\n",
              "      <td>979712.0</td>\n",
              "      <td>6.9</td>\n",
              "    </tr>\n",
              "  </tbody>\n",
              "</table>\n",
              "</div>"
            ],
            "text/plain": [
              "   id  submitted  solved  ...  average_coefficient  total_score   TBM\n",
              "0  24        164      73  ...                100.0     750299.0   9.4\n",
              "1  27         13       3  ...                100.0      39000.0  10.0\n",
              "2  29        199      72  ...                100.0     762760.0   8.2\n",
              "4  35        297     141  ...                100.0    1477000.0   6.2\n",
              "5  37        312      93  ...                100.0     979712.0   6.9\n",
              "\n",
              "[5 rows x 7 columns]"
            ]
          },
          "metadata": {
            "tags": []
          },
          "execution_count": 16
        }
      ]
    },
    {
      "cell_type": "markdown",
      "metadata": {
        "id": "s8EWvSS3AjuR"
      },
      "source": [
        "Lượng dữ liệu chưa xác định được điểm TBM"
      ]
    },
    {
      "cell_type": "code",
      "metadata": {
        "colab": {
          "base_uri": "https://localhost:8080/",
          "height": 221
        },
        "id": "XCeAQCW2avqh",
        "outputId": "e1592dd4-ac0a-4b47-e645-67a339d77a33"
      },
      "source": [
        "data_miss = result2[result2['TBM'].isna()]\n",
        "print(\"Data samples:\" ,len(data_miss['id']))\n",
        "data_miss.head(5)"
      ],
      "execution_count": 17,
      "outputs": [
        {
          "output_type": "stream",
          "text": [
            "Data samples: 168\n"
          ],
          "name": "stdout"
        },
        {
          "output_type": "execute_result",
          "data": {
            "text/html": [
              "<div>\n",
              "<style scoped>\n",
              "    .dataframe tbody tr th:only-of-type {\n",
              "        vertical-align: middle;\n",
              "    }\n",
              "\n",
              "    .dataframe tbody tr th {\n",
              "        vertical-align: top;\n",
              "    }\n",
              "\n",
              "    .dataframe thead th {\n",
              "        text-align: right;\n",
              "    }\n",
              "</style>\n",
              "<table border=\"1\" class=\"dataframe\">\n",
              "  <thead>\n",
              "    <tr style=\"text-align: right;\">\n",
              "      <th></th>\n",
              "      <th>id</th>\n",
              "      <th>submitted</th>\n",
              "      <th>solved</th>\n",
              "      <th>tries_per_problem</th>\n",
              "      <th>average_coefficient</th>\n",
              "      <th>total_score</th>\n",
              "      <th>TBM</th>\n",
              "    </tr>\n",
              "  </thead>\n",
              "  <tbody>\n",
              "    <tr>\n",
              "      <th>3</th>\n",
              "      <td>34</td>\n",
              "      <td>218</td>\n",
              "      <td>81</td>\n",
              "      <td>2.69</td>\n",
              "      <td>100.0</td>\n",
              "      <td>822888.0</td>\n",
              "      <td>NaN</td>\n",
              "    </tr>\n",
              "    <tr>\n",
              "      <th>7</th>\n",
              "      <td>41</td>\n",
              "      <td>110</td>\n",
              "      <td>62</td>\n",
              "      <td>1.77</td>\n",
              "      <td>100.0</td>\n",
              "      <td>636888.0</td>\n",
              "      <td>NaN</td>\n",
              "    </tr>\n",
              "    <tr>\n",
              "      <th>10</th>\n",
              "      <td>45</td>\n",
              "      <td>161</td>\n",
              "      <td>55</td>\n",
              "      <td>2.93</td>\n",
              "      <td>100.0</td>\n",
              "      <td>601388.0</td>\n",
              "      <td>NaN</td>\n",
              "    </tr>\n",
              "    <tr>\n",
              "      <th>11</th>\n",
              "      <td>47</td>\n",
              "      <td>186</td>\n",
              "      <td>66</td>\n",
              "      <td>2.82</td>\n",
              "      <td>100.0</td>\n",
              "      <td>666000.0</td>\n",
              "      <td>NaN</td>\n",
              "    </tr>\n",
              "    <tr>\n",
              "      <th>12</th>\n",
              "      <td>48</td>\n",
              "      <td>26</td>\n",
              "      <td>19</td>\n",
              "      <td>1.37</td>\n",
              "      <td>100.0</td>\n",
              "      <td>225285.0</td>\n",
              "      <td>NaN</td>\n",
              "    </tr>\n",
              "  </tbody>\n",
              "</table>\n",
              "</div>"
            ],
            "text/plain": [
              "    id  submitted  solved  ...  average_coefficient  total_score  TBM\n",
              "3   34        218      81  ...                100.0     822888.0  NaN\n",
              "7   41        110      62  ...                100.0     636888.0  NaN\n",
              "10  45        161      55  ...                100.0     601388.0  NaN\n",
              "11  47        186      66  ...                100.0     666000.0  NaN\n",
              "12  48         26      19  ...                100.0     225285.0  NaN\n",
              "\n",
              "[5 rows x 7 columns]"
            ]
          },
          "metadata": {
            "tags": []
          },
          "execution_count": 17
        }
      ]
    },
    {
      "cell_type": "markdown",
      "metadata": {
        "id": "TyKTpuP4Xs1e"
      },
      "source": [
        "Để xây dựng model ta sử dụng 2 thông số trích xuất được từ data là tổng điểm wecode đạt được và số problem đã giải được"
      ]
    },
    {
      "cell_type": "code",
      "metadata": {
        "id": "lxoblOREfnAg"
      },
      "source": [
        "totalScore = data_full['total_score'].to_numpy()\n",
        "solved = data_full['solved'].to_numpy()\n",
        "\n",
        "totalScore = np.reshape(totalScore, (len(totalScore), 1))\n",
        "solved = np.reshape(solved, (len(solved), 1))\n",
        "\n",
        "x = np.append(totalScore, solved, axis=1)\n",
        "y = data_full['TBM'].to_numpy()\n",
        "\n",
        "#Tập dữ liệu train model\n",
        "x_train = x[:500]\n",
        "y_train = y[:500] \n",
        "\n",
        "#Tập dữ liệu test model\n",
        "x_test = x[500:]\n",
        "y_test = y[500:]"
      ],
      "execution_count": 18,
      "outputs": []
    },
    {
      "cell_type": "code",
      "metadata": {
        "colab": {
          "base_uri": "https://localhost:8080/"
        },
        "id": "g3cXR7oUmzc3",
        "outputId": "c726b496-e650-496c-cb9d-5bffbf98cb4b"
      },
      "source": [
        "lr = LinearRegression().fit(x_train,y_train)\n",
        "\n",
        "pre1 = lr.predict(x_train)\n",
        "pre2 = lr.predict(x_test)\n",
        "print(\"Score và MSE khi tiến hành dự đoán trên bộ dữ liệu train\")\n",
        "print(\"Score: \", lr.score(x_train, y_train))\n",
        "print(\"MSE: \", mean_squared_error(y_train, pre1))\n",
        "print()\n",
        "print(\"Score và MSE khi tiến hành dự đoán trên bộ dữ liệu test\")\n",
        "print(\"Score: \", lr.score(x_test, y_test))\n",
        "print(\"MSE: \", mean_squared_error(y_test, pre2))"
      ],
      "execution_count": 19,
      "outputs": [
        {
          "output_type": "stream",
          "text": [
            "Score và MSE khi tiến hành dự đoán trên bộ dữ liệu train\n",
            "Score:  0.1006863986081994\n",
            "MSE:  2.5613652490884498\n",
            "\n",
            "Score và MSE khi tiến hành dự đoán trên bộ dữ liệu test\n",
            "Score:  0.16888647748738816\n",
            "MSE:  2.999685418281849\n"
          ],
          "name": "stdout"
        }
      ]
    },
    {
      "cell_type": "markdown",
      "metadata": {
        "id": "Z2Opx64UiN4Y"
      },
      "source": [
        "So sánh điểm TBM gốc và TBM sau khi dự đoán bằng model"
      ]
    },
    {
      "cell_type": "code",
      "metadata": {
        "colab": {
          "base_uri": "https://localhost:8080/",
          "height": 669
        },
        "id": "cQP5kUyXeCYl",
        "outputId": "84054e48-e6cf-41aa-c254-3c46c459f00c"
      },
      "source": [
        "TBM_predict = np.append(pre1, pre2)\n",
        "\n",
        "TBM_data = [data_full[\"id\"], data_full[\"TBM\"]]\n",
        "headers = [\"id\", \"TBM\"]\n",
        "TBM = pd.concat(TBM_data, axis=1, keys=headers)\n",
        "\n",
        "TBM['TBM_pre'] = pd.Series(TBM_predict, index=TBM.index)\n",
        "TBM.head(20)"
      ],
      "execution_count": 30,
      "outputs": [
        {
          "output_type": "execute_result",
          "data": {
            "text/html": [
              "<div>\n",
              "<style scoped>\n",
              "    .dataframe tbody tr th:only-of-type {\n",
              "        vertical-align: middle;\n",
              "    }\n",
              "\n",
              "    .dataframe tbody tr th {\n",
              "        vertical-align: top;\n",
              "    }\n",
              "\n",
              "    .dataframe thead th {\n",
              "        text-align: right;\n",
              "    }\n",
              "</style>\n",
              "<table border=\"1\" class=\"dataframe\">\n",
              "  <thead>\n",
              "    <tr style=\"text-align: right;\">\n",
              "      <th></th>\n",
              "      <th>id</th>\n",
              "      <th>TBM</th>\n",
              "      <th>TBM_pre</th>\n",
              "    </tr>\n",
              "  </thead>\n",
              "  <tbody>\n",
              "    <tr>\n",
              "      <th>0</th>\n",
              "      <td>24</td>\n",
              "      <td>9.4</td>\n",
              "      <td>6.729310</td>\n",
              "    </tr>\n",
              "    <tr>\n",
              "      <th>1</th>\n",
              "      <td>27</td>\n",
              "      <td>10.0</td>\n",
              "      <td>6.071557</td>\n",
              "    </tr>\n",
              "    <tr>\n",
              "      <th>2</th>\n",
              "      <td>29</td>\n",
              "      <td>8.2</td>\n",
              "      <td>6.753794</td>\n",
              "    </tr>\n",
              "    <tr>\n",
              "      <th>4</th>\n",
              "      <td>35</td>\n",
              "      <td>6.2</td>\n",
              "      <td>7.421773</td>\n",
              "    </tr>\n",
              "    <tr>\n",
              "      <th>5</th>\n",
              "      <td>37</td>\n",
              "      <td>6.9</td>\n",
              "      <td>6.956455</td>\n",
              "    </tr>\n",
              "    <tr>\n",
              "      <th>6</th>\n",
              "      <td>40</td>\n",
              "      <td>8.6</td>\n",
              "      <td>7.750451</td>\n",
              "    </tr>\n",
              "    <tr>\n",
              "      <th>8</th>\n",
              "      <td>42</td>\n",
              "      <td>8.5</td>\n",
              "      <td>7.871704</td>\n",
              "    </tr>\n",
              "    <tr>\n",
              "      <th>9</th>\n",
              "      <td>43</td>\n",
              "      <td>7.2</td>\n",
              "      <td>7.791764</td>\n",
              "    </tr>\n",
              "    <tr>\n",
              "      <th>13</th>\n",
              "      <td>49</td>\n",
              "      <td>5.9</td>\n",
              "      <td>6.940492</td>\n",
              "    </tr>\n",
              "    <tr>\n",
              "      <th>15</th>\n",
              "      <td>52</td>\n",
              "      <td>5.6</td>\n",
              "      <td>6.936090</td>\n",
              "    </tr>\n",
              "    <tr>\n",
              "      <th>16</th>\n",
              "      <td>53</td>\n",
              "      <td>6.7</td>\n",
              "      <td>6.821409</td>\n",
              "    </tr>\n",
              "    <tr>\n",
              "      <th>17</th>\n",
              "      <td>55</td>\n",
              "      <td>5.0</td>\n",
              "      <td>6.798938</td>\n",
              "    </tr>\n",
              "    <tr>\n",
              "      <th>18</th>\n",
              "      <td>57</td>\n",
              "      <td>8.9</td>\n",
              "      <td>7.632122</td>\n",
              "    </tr>\n",
              "    <tr>\n",
              "      <th>19</th>\n",
              "      <td>59</td>\n",
              "      <td>5.0</td>\n",
              "      <td>6.094697</td>\n",
              "    </tr>\n",
              "    <tr>\n",
              "      <th>20</th>\n",
              "      <td>64</td>\n",
              "      <td>8.9</td>\n",
              "      <td>6.251745</td>\n",
              "    </tr>\n",
              "    <tr>\n",
              "      <th>21</th>\n",
              "      <td>67</td>\n",
              "      <td>7.0</td>\n",
              "      <td>6.290427</td>\n",
              "    </tr>\n",
              "    <tr>\n",
              "      <th>22</th>\n",
              "      <td>68</td>\n",
              "      <td>8.5</td>\n",
              "      <td>7.886623</td>\n",
              "    </tr>\n",
              "    <tr>\n",
              "      <th>23</th>\n",
              "      <td>70</td>\n",
              "      <td>4.6</td>\n",
              "      <td>6.908739</td>\n",
              "    </tr>\n",
              "    <tr>\n",
              "      <th>24</th>\n",
              "      <td>72</td>\n",
              "      <td>7.3</td>\n",
              "      <td>6.654876</td>\n",
              "    </tr>\n",
              "    <tr>\n",
              "      <th>26</th>\n",
              "      <td>77</td>\n",
              "      <td>8.8</td>\n",
              "      <td>6.410066</td>\n",
              "    </tr>\n",
              "  </tbody>\n",
              "</table>\n",
              "</div>"
            ],
            "text/plain": [
              "    id   TBM   TBM_pre\n",
              "0   24   9.4  6.729310\n",
              "1   27  10.0  6.071557\n",
              "2   29   8.2  6.753794\n",
              "4   35   6.2  7.421773\n",
              "5   37   6.9  6.956455\n",
              "6   40   8.6  7.750451\n",
              "8   42   8.5  7.871704\n",
              "9   43   7.2  7.791764\n",
              "13  49   5.9  6.940492\n",
              "15  52   5.6  6.936090\n",
              "16  53   6.7  6.821409\n",
              "17  55   5.0  6.798938\n",
              "18  57   8.9  7.632122\n",
              "19  59   5.0  6.094697\n",
              "20  64   8.9  6.251745\n",
              "21  67   7.0  6.290427\n",
              "22  68   8.5  7.886623\n",
              "23  70   4.6  6.908739\n",
              "24  72   7.3  6.654876\n",
              "26  77   8.8  6.410066"
            ]
          },
          "metadata": {
            "tags": []
          },
          "execution_count": 30
        }
      ]
    }
  ]
}