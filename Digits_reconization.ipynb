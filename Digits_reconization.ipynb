{
  "nbformat": 4,
  "nbformat_minor": 0,
  "metadata": {
    "colab": {
      "name": "Digits_reconization.ipynb",
      "provenance": [],
      "collapsed_sections": [],
      "toc_visible": true,
      "authorship_tag": "ABX9TyOQ0W1jHkg4rICD1Lh/Tcwb",
      "include_colab_link": true
    },
    "kernelspec": {
      "name": "python3",
      "display_name": "Python 3"
    },
    "language_info": {
      "name": "python"
    }
  },
  "cells": [
    {
      "cell_type": "markdown",
      "metadata": {
        "id": "view-in-github",
        "colab_type": "text"
      },
      "source": [
        "<a href=\"https://colab.research.google.com/github/Tripyromaniac/CS114.L22.KHCL/blob/main/Digits_reconization.ipynb\" target=\"_parent\"><img src=\"https://colab.research.google.com/assets/colab-badge.svg\" alt=\"Open In Colab\"/></a>"
      ]
    },
    {
      "cell_type": "code",
      "metadata": {
        "colab": {
          "base_uri": "https://localhost:8080/"
        },
        "id": "rIEYVPCyV-wg",
        "outputId": "6e08dd86-16b1-462f-98cb-985d747d8244"
      },
      "source": [
        "print(__doc__)\n",
        "\n",
        "\n",
        "import matplotlib.pyplot as plt\n",
        "\n",
        "# Import datasets, classifiers and performance metrics\n",
        "from sklearn import datasets, svm, metrics\n",
        "from sklearn.model_selection import train_test_split\n",
        "from skimage.transform import rescale, resize, downscale_local_mean"
      ],
      "execution_count": 2,
      "outputs": [
        {
          "output_type": "stream",
          "text": [
            "Automatically created module for IPython interactive environment\n"
          ],
          "name": "stdout"
        }
      ]
    },
    {
      "cell_type": "code",
      "metadata": {
        "colab": {
          "base_uri": "https://localhost:8080/",
          "height": 168
        },
        "id": "Koti8LoHWXao",
        "outputId": "a596cd6d-9e0a-4bc5-9982-d1756242ec5b"
      },
      "source": [
        "digits = datasets.load_digits()\n",
        "\n",
        "_, axes = plt.subplots(nrows=1, ncols=4, figsize=(10, 3))\n",
        "for ax, image, label in zip(axes, digits.images, digits.target):\n",
        "    ax.set_axis_off()\n",
        "    ax.imshow(image, cmap=plt.cm.gray_r, interpolation='nearest')\n",
        "    ax.set_title('Training: %i' % label)"
      ],
      "execution_count": 3,
      "outputs": [
        {
          "output_type": "display_data",
          "data": {
            "image/png": "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\n",
            "text/plain": [
              "<Figure size 720x216 with 4 Axes>"
            ]
          },
          "metadata": {
            "tags": [],
            "needs_background": "light"
          }
        }
      ]
    },
    {
      "cell_type": "code",
      "metadata": {
        "id": "wN-obKMEWC4L"
      },
      "source": [
        "# flatten the images\n",
        "n_samples = len(digits.images)\n",
        "data = digits.images.reshape((n_samples, -1))\n",
        "\n",
        "# Create a classifier: a support vector classifier\n",
        "clf = svm.SVC(gamma=0.001)\n",
        "\n",
        "# Split data into 50% train and 50% test subsets\n",
        "X_train, X_test, y_train, y_test = train_test_split(\n",
        "    data, digits.target, test_size=0.5, shuffle=False)\n",
        "\n",
        "# Learn the digits on the train subset\n",
        "clf.fit(X_train, y_train)\n",
        "\n",
        "# Predict the value of the digit on the test subset\n",
        "predicted = clf.predict(X_test)"
      ],
      "execution_count": 4,
      "outputs": []
    },
    {
      "cell_type": "code",
      "metadata": {
        "colab": {
          "base_uri": "https://localhost:8080/",
          "height": 115
        },
        "id": "6q-d213OWC1j",
        "outputId": "879b025d-5c0a-4cde-c90d-2ab5ac4c506d"
      },
      "source": [
        "_, axes = plt.subplots(nrows=1, ncols=7, figsize=(10, 3))\n",
        "for ax, image, prediction in zip(axes, X_test, predicted):\n",
        "    ax.set_axis_off()\n",
        "    image = image.reshape(8, 8)\n",
        "    ax.imshow(image, cmap=plt.cm.gray_r, interpolation='nearest')\n",
        "    ax.set_title(f'Prediction: {prediction}')"
      ],
      "execution_count": 5,
      "outputs": [
        {
          "output_type": "display_data",
          "data": {
            "image/png": "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\n",
            "text/plain": [
              "<Figure size 720x216 with 7 Axes>"
            ]
          },
          "metadata": {
            "tags": [],
            "needs_background": "light"
          }
        }
      ]
    },
    {
      "cell_type": "code",
      "metadata": {
        "colab": {
          "base_uri": "https://localhost:8080/"
        },
        "id": "ekFtwzrjWCzO",
        "outputId": "0d7eb349-3138-4648-c89d-e906384007c9"
      },
      "source": [
        "print(f\"Classification report for classifier {clf}:\\n\"\n",
        "      f\"{metrics.classification_report(y_test, predicted)}\\n\")"
      ],
      "execution_count": 6,
      "outputs": [
        {
          "output_type": "stream",
          "text": [
            "Classification report for classifier SVC(C=1.0, break_ties=False, cache_size=200, class_weight=None, coef0=0.0,\n",
            "    decision_function_shape='ovr', degree=3, gamma=0.001, kernel='rbf',\n",
            "    max_iter=-1, probability=False, random_state=None, shrinking=True,\n",
            "    tol=0.001, verbose=False):\n",
            "              precision    recall  f1-score   support\n",
            "\n",
            "           0       1.00      0.99      0.99        88\n",
            "           1       0.99      0.97      0.98        91\n",
            "           2       0.99      0.99      0.99        86\n",
            "           3       0.98      0.87      0.92        91\n",
            "           4       0.99      0.96      0.97        92\n",
            "           5       0.95      0.97      0.96        91\n",
            "           6       0.99      0.99      0.99        91\n",
            "           7       0.96      0.99      0.97        89\n",
            "           8       0.94      1.00      0.97        88\n",
            "           9       0.93      0.98      0.95        92\n",
            "\n",
            "    accuracy                           0.97       899\n",
            "   macro avg       0.97      0.97      0.97       899\n",
            "weighted avg       0.97      0.97      0.97       899\n",
            "\n",
            "\n"
          ],
          "name": "stdout"
        }
      ]
    },
    {
      "cell_type": "code",
      "metadata": {
        "id": "pVe1IcR-Jf6e"
      },
      "source": [
        "# In Confusion Matrix dựa trên bộ train và test có sẵn"
      ],
      "execution_count": null,
      "outputs": []
    },
    {
      "cell_type": "code",
      "metadata": {
        "colab": {
          "base_uri": "https://localhost:8080/",
          "height": 495
        },
        "id": "aXZxfeTzWCwu",
        "outputId": "32927be3-595f-4d19-d19b-07fb5e39d6d5"
      },
      "source": [
        "disp = metrics.plot_confusion_matrix(clf, X_test, y_test)\n",
        "disp.figure_.suptitle(\"Confusion Matrix\")\n",
        "print(f\"Confusion matrix:\\n{disp.confusion_matrix}\")\n",
        "\n",
        "plt.show()"
      ],
      "execution_count": 7,
      "outputs": [
        {
          "output_type": "stream",
          "text": [
            "Confusion matrix:\n",
            "[[87  0  0  0  1  0  0  0  0  0]\n",
            " [ 0 88  1  0  0  0  0  0  1  1]\n",
            " [ 0  0 85  1  0  0  0  0  0  0]\n",
            " [ 0  0  0 79  0  3  0  4  5  0]\n",
            " [ 0  0  0  0 88  0  0  0  0  4]\n",
            " [ 0  0  0  0  0 88  1  0  0  2]\n",
            " [ 0  1  0  0  0  0 90  0  0  0]\n",
            " [ 0  0  0  0  0  1  0 88  0  0]\n",
            " [ 0  0  0  0  0  0  0  0 88  0]\n",
            " [ 0  0  0  1  0  1  0  0  0 90]]\n"
          ],
          "name": "stdout"
        },
        {
          "output_type": "display_data",
          "data": {
            "image/png": "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\n",
            "text/plain": [
              "<Figure size 432x288 with 2 Axes>"
            ]
          },
          "metadata": {
            "tags": [],
            "needs_background": "light"
          }
        }
      ]
    },
    {
      "cell_type": "code",
      "metadata": {
        "id": "OboJjboRIVxC"
      },
      "source": [
        "# Chụp ảnh và dự đoán kết quả bằng webcam"
      ],
      "execution_count": null,
      "outputs": []
    },
    {
      "cell_type": "code",
      "metadata": {
        "id": "nBVx3nqDWCrX"
      },
      "source": [
        "from IPython.display import display, Javascript\n",
        "from google.colab.output import eval_js\n",
        "from base64 import b64decode\n",
        "import os\n",
        "import cv2\n",
        "import numpy as np\n",
        "\n",
        "\n",
        "def take_photo(filename='photo.jpg', quality=0.8):\n",
        "  js = Javascript('''\n",
        "    async function takePhoto(quality) {\n",
        "      const div = document.createElement('div');\n",
        "      const capture = document.createElement('button');\n",
        "      capture.textContent = 'Capture';\n",
        "      div.appendChild(capture);\n",
        "\n",
        "      const video = document.createElement('video');\n",
        "      video.style.display = 'block';\n",
        "      const stream = await navigator.mediaDevices.getUserMedia({video: true});\n",
        "\n",
        "      document.body.appendChild(div);\n",
        "      div.appendChild(video);\n",
        "      video.srcObject = stream;\n",
        "      await video.play();\n",
        "\n",
        "      // Resize the output to fit the video element.\n",
        "      google.colab.output.setIframeHeight(document.documentElement.scrollHeight, true);\n",
        "\n",
        "      // Wait for Capture to be clicked.\n",
        "      await new Promise((resolve) => capture.onclick = resolve);\n",
        "\n",
        "      const canvas = document.createElement('canvas');\n",
        "      canvas.width = video.videoWidth;\n",
        "      canvas.height = video.videoHeight;\n",
        "      canvas.getContext('2d').drawImage(video, 0, 0);\n",
        "      stream.getVideoTracks()[0].stop();\n",
        "      div.remove();\n",
        "      return canvas.toDataURL('image/jpeg', quality);\n",
        "    }\n",
        "    ''')\n",
        "  display(js)\n",
        "  data = eval_js('takePhoto({})'.format(quality))\n",
        "  binary = b64decode(data.split(',')[1])\n",
        "  with open(filename, 'wb') as f:\n",
        "    f.write(binary)\n",
        "  return filename"
      ],
      "execution_count": 8,
      "outputs": []
    },
    {
      "cell_type": "code",
      "metadata": {
        "colab": {
          "base_uri": "https://localhost:8080/",
          "height": 779
        },
        "id": "IaUVlCAjXHri",
        "outputId": "328a746b-0245-4ed3-f8f5-4bad7e8e0cc9"
      },
      "source": [
        "from IPython.display import Image\n",
        "try:\n",
        "  filename = take_photo()\n",
        "  print('Saved to {}'.format(filename))\n",
        " # In ảnh đã chụp ra màn hình\n",
        "  display(Image(filename))\n",
        " # Đọc file ảnh đã chụp\n",
        "  img4 = cv2.imread(filename)\n",
        " # Chuyển ảnh sang dạng màu Grayscale\n",
        "  img4 = cv2.cvtColor(img4, cv2.COLOR_BGR2GRAY)\n",
        " # Resize lại kích thước ảnh thành 8x8 vì thuật toán chỉ dự đoán dựa trên ảnh có kích thước 8x8\n",
        "  img4 = cv2.resize(img4, (8, 8), interpolation = cv2.INTER_AREA)\n",
        "  img4 = 16-(img4/16)\n",
        " # In ảnh sau khi qua quá trình xử lý\n",
        "  plt.imshow(img4 ,cmap='gray')\n",
        "  plt.show()\n",
        "  print(\"Dự đoán:\", clf.predict(img4.reshape(1,64)))\n",
        "except Exception as err:\n",
        "  print(str(err))"
      ],
      "execution_count": 36,
      "outputs": [
        {
          "output_type": "display_data",
          "data": {
            "application/javascript": [
              "\n",
              "    async function takePhoto(quality) {\n",
              "      const div = document.createElement('div');\n",
              "      const capture = document.createElement('button');\n",
              "      capture.textContent = 'Capture';\n",
              "      div.appendChild(capture);\n",
              "\n",
              "      const video = document.createElement('video');\n",
              "      video.style.display = 'block';\n",
              "      const stream = await navigator.mediaDevices.getUserMedia({video: true});\n",
              "\n",
              "      document.body.appendChild(div);\n",
              "      div.appendChild(video);\n",
              "      video.srcObject = stream;\n",
              "      await video.play();\n",
              "\n",
              "      // Resize the output to fit the video element.\n",
              "      google.colab.output.setIframeHeight(document.documentElement.scrollHeight, true);\n",
              "\n",
              "      // Wait for Capture to be clicked.\n",
              "      await new Promise((resolve) => capture.onclick = resolve);\n",
              "\n",
              "      const canvas = document.createElement('canvas');\n",
              "      canvas.width = video.videoWidth;\n",
              "      canvas.height = video.videoHeight;\n",
              "      canvas.getContext('2d').drawImage(video, 0, 0);\n",
              "      stream.getVideoTracks()[0].stop();\n",
              "      div.remove();\n",
              "      return canvas.toDataURL('image/jpeg', quality);\n",
              "    }\n",
              "    "
            ],
            "text/plain": [
              "<IPython.core.display.Javascript object>"
            ]
          },
          "metadata": {
            "tags": []
          }
        },
        {
          "output_type": "stream",
          "text": [
            "Saved to photo.jpg\n"
          ],
          "name": "stdout"
        },
        {
          "output_type": "display_data",
          "data": {
            "image/jpeg": "/9j/4AAQSkZJRgABAQAAAQABAAD/2wBDAAYEBQYFBAYGBQYHBwYIChAKCgkJChQODwwQFxQYGBcUFhYaHSUfGhsjHBYWICwgIyYnKSopGR8tMC0oMCUoKSj/2wBDAQcHBwoIChMKChMoGhYaKCgoKCgoKCgoKCgoKCgoKCgoKCgoKCgoKCgoKCgoKCgoKCgoKCgoKCgoKCgoKCgoKCj/wAARCAHgAoADASIAAhEBAxEB/8QAHAABAQEAAgMBAAAAAAAAAAAAAAECAwcEBQYI/8QAOhABAAEDAwIGAQEGBAUFAQAAAAECAxEEBRIGIQcTMUFRYSIyFCNCYnGBM1KRoRUWF0OxNERTVMFj/8QAGQEBAQEBAQEAAAAAAAAAAAAAAAECAwQF/8QAKBEBAQACAQQCAgICAwEAAAAAAAECEQMEEiExE1EUQSIyM0IjUmGB/9oADAMBAAIRAxEAPwD7fOUlfRJZaZT9SkdkCnMNg2AJSDSKgCooImFBGRpkDitKlICiAUqhSCpS1gEBoFSlMNs0iKnKVUA4jagwFILQ0FPoAqGftBYAyAZCJBcrTLK5BsZyZBsZpUE9BUwAKgJhGmQaVgyDQyCtMouQXKBkGcqAKIoGVpQBaWmcqyJSoCpkyVFIKoAByOQNs8kbQeszyWoFEAQVaUSmWxamgBUVAZ5NDIAzS0IAAtJkpKQUpD0ASlVBY7mGYnDQDTNLQKzkwYEVMtcWcA1SvJxzXFEZmcQRdpq/TVH+oN1DOTINUytLFLXIHIOPkKNqhkFyBEgASBlYZy1ANUqiZQXKZQBoAEygABSVCgmJAGeTTNQLkAGV5dlZBoZaBrJlnJTIrSwhkGkymTIAzlWRrKZAGhkBctcmGgeChn7EFDicmwWlAGhPZQPYTKgyCAlLTNLXEQKRaQVKVAFQBQBBcIoo0ytMiKMrTAJXVFuma65xEesy+e1PWeyWNVGnr1dM3M47PcbpFP8Aw7VeZnh5c5fmnc4j/iF+aMxRynDv0/FOS3bFunbHWfXO3/smo0OlquV3Zj9Vt1ppup9wsdqNbqIj45ZehuXKprnlliie/wCT14ScPiJrb7ux1ju9ujtrZmPuHlW+vt5tet63XH3D4aLs47OOu7L0747PMc+2uy7PiTuGP3lq1M/UvJo8StRFOJsUTV/V1TTVPy5M1fLPZxX/AENX7dr0eJd3vy08f6uKrxI1c1TixRh1fTNXzLXOqP4pXt4v+hq/bs6nxK1nL/Apn+7zNB4lVVaqKdXp4otT7xLqaLs4b82Zq9U+Phv+h/P7d5Vde6LGaLVyf7PHveIVij/D09cuo7W5XLcYie3wk7hNf6Yws6fg+md8jtirxFtUUTM6avt9vDv+J8Yq8nRzM/cusKtVVVExl4lV7CZ8PBPUaly/bsz/AKl6uqe2nt0f3LfiJuFycURaiXWcXnNY1HGqZ4xJMeH6P5Oyv+fdziO82YZp8Qdzj1psy67q1+J/RCftc1T2oh07eH6Z/k7Nt+Ievx3s2Z/u9ptXW2s1uoizGktzXPp+TqXTauMfnb/3e62TW6enV26q7FyuaJifwn0ZvT8VniJ3ZR35prlVyzRVcp4VzHeHM+Knqu5bsx5en9I9apY0XUN7cL0Wq9RbtVTPpT3l8z8bk9u/yR9sODR2ptWaY8ybmfeXkYcK6JSCIAIKMicQbceftpmfcGk5IAR7NMtA0MgrYigCUqCNQiUg0ZMoCjNJlkaGaVB4XFqlBoayggKUpT+K8gaABlplciIcQAp7NMtAMgDSUlLQKgCIoAlLTNLVIFS0lRSDRSiZBxa6jzdJft/NMw/OG+2Ys7pqLfxVL9JameGmuz/LL84b7V5u66ur/wDpL39D/auPI9Pfxx9HixExV6PJvfimnxNycvVnN5JL4a8q55fLjPH5eNPq9tXqLnleXn8Ph4F6nM5hc8NEy24aJxU54cVNE/DmjMJhCtUZcneaXHRLmtukQpheEeqweq6jO0pphOMRLkpjsVQmmtlMRLhrpiJc9HqzNEZyXAlYimJj0aotx8Oemnt6LETBOM28SbMfbltxFuHkR3ccxGWpiztxzU9htN21Rcmq/NdEfyvAqw3RPY2r6axrbF65NFmzcu1/Ey+r6b2vW6u7Fdm3asxROe/eXwnTd+LOtrmaefb0w7n6QvWrtmZoszbmY94ceozuGO4YTy9/Ypqt2aKa5iZiO+HMMvi16WmTJlRGeS1AoyADJn7AAz9pMgZVloGhlOQrlGOSg0nJAF5KxyOQNq4eTXIG8mUyZBcmU5KDwW2G2KADYKi0g0YCAZFqSkRoAGWhQYGgEpUUEpUBASlQSlopgwA0ytIKz7tCjwd7u+TtOrufFuX5z1lfmXrtX8Uy7761veR03qpz/Dh+c79+Yu14+X0Oh8S1w5PLfHzKsZ9V8qbN2Yhw03ZiYn3ew0GsojUUTqLPmUe+J7vXuVPLhimZPL+nbPT3Rmg3TbLesxXbm56Q87/pxov/AJZYvVccuqdtdORT9Lwn4d0WfDzbqP1zMvKt9BbXROcTLP5vEnx5OjqbX8qxan2h31R0XtVP/ZctPSO1R/2IZ/Nw+l+Oug6bU9/xlqLf8s/6O/aek9qj/wBvC/8AKm1f/XhPzsfo+Oug/Kqn9NMsTZr+Knf/APyrtcelignpPap9bEH52P0fHX5/4S5LOnrvXYt0UzXXPtDvarozapz+6eVouldr0d6Ltmz+cekreu4/o+Ouk69p1tuP/T3P9HDXo79EfnZrj+z9FVaezV62qJ/s4K9u0lyPz09uf7Oc6+/S/E/O02ZinvTMf2cXlRE+j9CXtg229GK9Jb/tDwL/AEbtN2MeRhudfj+4nxV0R5MVz3e02/Yr+sp52KZmM49HbVPQ20x/25e12rYNFtsYsW4x9wZ9djrxCcdfOdD9KW9vprvau1FddfpmH3VFumijFFEUR8QURERintDT53JyXku67SaZMtM1MNIZSfcBOTAmRWuQgIyIooM5Mg0MmQURMg3EtOOJaiRWkpTKZBciGQVaWMtUyDSckRkapa5MRI0OJnHZoYGGuSsA1TU046XI2LlWQGhloQAAUAAARQAFqKfURPRSopUaGQAF9gQaZqB8j4l3otdM3Y+Zfn2ufyl3h4w3fK2CimPep0ZETVL39L/jcr7aoey0FqKrke71mJicPZ7JauXtfZt0TjNUPXx+2M/T9HdL2vI2LSW4/wAsPbz6PD2635WgsUfFEPMl8fku8rXWemctZ7MrDI0tMokdhWj1EBWmVpQUGQXKgAmTKgycgAMiDS5Zz9rKY+gGKm2ARlpkDLOVBUMgCZTkICnJAF5M8lATktMgDWTKAqxKZQx9sCmUAbz2AUMqJloYMfQrAzxVQEx9GPpYAXBhYVsYWloEEVmkGkpVQRaUWkD0ApAKRmkRqopF9lFZKWkFBP4VYKGailriDq7xqvY0eltZ93UWio8y/EPvfGXcfO3i3pojtbh15ZvVWqs0T3fR4PGEYrlrj95P9X0fSOmm5vehxHrch8v5s+r7Twtqi/1Lapr/AIImYh6pnJ5Zsr9A2u1qiPpU9Fh8R1Fj0RoBMpMgNRKsQ1SBS0gKtMtOOkqEcgzyZ5IrQxlcqjQzlMg0MchFaBgabYqlAEyggJUDINM8jkgqcjkyA1ySfdAFz2M/aAOSkcdMuSkVM/YqMCoABHsGfsFQAXImfsAFIgEVoBmAWkClSkwqJSuGqWgcVRTDYBSjbOGhFyFIA0zTAhgw0mATA2gMtAMiYlQEw1/DPzhFyD84eJN67f6o1M3oxwnEZfJ5fe+KsRX1LdxGHw028Rl9Tin/ABxz2w+i6G3i1su7ftdy3NzEYiIfPezztop5X3TCbuqluo/Tmza6Ny2+1q6ImiLkZxLzaXrOmqPL2TSU/wAsPavlckkysjpPStMwMguFUGYaSloAZyZBoORyRUFQEAVBkMgEBkEZlcpKKgZMggmQaBnP2nIFE5M8gaYAUDJkBEqGRqlphYkG05M8jkitpyZ5ANclYAbz9iUyoAJ+oHICqIAAoAlLSKI0rOFAAAAaAARKVEpBpFAAAQFGUwpACCpPaJB+fvE25FXVGojPo+PuRPHPs+g8QbvmdVayficPnpuTNvi+vxf445ftx4edslNc6y3FEZpmqI/3eFS9t0xmvedJbz2m5C4e2r6fpPaqfL27T0/FMPMcOnjjYtxHtEOR8m3daxcggg1Csw0BkyrH6hAhoFSJaRQBMpkFZEyCgAzyVK2Qa5MKfiCIqCjLTKNDLTIAMgNMgGAZ9RVRUBKWmctMilKJS0rXEEZBUUARQbYBBzUqlMtKIioBSoCCgKtK4SloRBUx2BQAT2UBABoAAQIUZRYD0BUWkBKu0HrRLkeg6w3+np/QRqK7U3ImcYhZN3UR0R4g0xR1TrMf5nzFUvddVbrG87rd1dNry+U+mXo8PqYbk1WW6J9nuOmKsb1pI9/Nh6m3RGHvOkbE3uoNDEf54JfI/S1iP3Fv+kNYW3GLVEfEK+WoCipTLbDYgU+jC0A2AIJV6KxyFaGGwZBnkKcVE5ArAgDOSZQGmWmQrIMorQyDTTIzUCggKlIooiVJkCltAFGctCqiZMsiqiZBQAUZyoOaltmloERQAQpBqkKWgFSFEAAAAAQRQbBgAAAZURWgBsFpfG+KGl8/pu5XH8E5fY5en6usxf6f1lE9/wAZawuspUvp+Zq6ImvLxrtGK3l3p8u9XE+0vFvXI5zL7GenKbKJx6vpOi9dptBvVi/qpxbonOXzNP5OazOHn7/Lpp3tqvEvaLUzFvnXj4h6DVeKmLs+RpJmj7nDquvtDjmWp0/Ez5dsWPFbOfM0df8AaYe727xL2u/MRqOVqZ/zQ6MoqiFqnLX4/Ff0m6/SGm6t2fUx+Gst/wCr2dnddFd/RqLc/wB35b5T8uezqb9n/DvXKP6VMfhY31TvfqWi/aufouUT/dyeZHy/M+j6i3XSVZt6y7/SZy97o/EDc7UcNRPmR8x2lzvQ39U+R35zz+mVy6W2/wARtZauRFdMXI949Jdh7N1TpNbpKLtyqLefly5Ol5MJtZyR9Nn7SXDZ1Nq9GbdyK6fqXLl5tNqvJx5URakyAgVM5TI0uQBRhthAZlWQAZyDSJSo0rNSZMgozkyDQyZFMoALSIoNDNLQAMsq0AAMmQaZPUqB5VMNM0tAgqAigCg0BCs0tCAAAAAAgNsNAAyyAAAAtLbjp9XI0Dwd5t+Zteqj+WXm0OPU0Res3LU+lUYB+Vt2jjr7sfFUvWXvV2fvHh/rtVvV+NNH7qZzyfOdT9Gbhsen86/GbefWH07y45+q5yafLWZ/FyUVTnDEWqoctFGGJjW3PRb+Su3BRcaruRMfb1SY6c/Lgqo7+rkizOPViM1PYRob8WouRjEtSJa8Gq1VFPpljM0vN41x2lxV0fMN3H6YleN5se7Pmcp7dnkVWYuR6OKuxNMfi5Z9zc0kV493mWNbet25t0XZ8ufWnPZ62qmYZiuaZ9Ux5de1uL6zbOqdy26qPK1NfCP4a+8Pvdh8R7dWLe5U8P547w6apvZ/U54mYjtLpZx83uM6sfpvbd30WvtxVp79Feft7F+YNv3PV6C9FzS367cxPtPaXZ3SviDTdm3p90xTVPaLntLw8nRX3xtTL7dn5MuGxftai1FyzVFUT8OZ4bNOsVjkCAzlQEyrIDTOQAZVATKZAaMiAGfsAE5JyVjP2K3yGAHInIAWJXKDKrlpjJlBRBRUEz9oNUmUgyDy6WilpRlFARKVUBoSkRYVIUAAAGwYAEbYbYaAgBlRAFRQCltKFATioDMw+a8QtFGs6b1EYzNMZfTvG3DTxqtDdsVfxRhZdXaZPzXs21Tuet/ZInFyfR7mjoDd6tRNHlds+rsfpvoa1t24TrL1WbkTmn6fex2e7l6qb/gxJXTNnwr1U6fNd/Fz4en3Pw83bR0zVbp8yI+Hf6S886nkjfa/OOj6N3i7RXc/Z5iKPaXBqdu3HSRNNyzdoj69H6TppopziIhwajRae/TMXrNFf9Yd8Otyn6YuG35mq8yJxXE/3h7XpvZr+867ybdE+X71u8b/AExtV/PPTUf2eTtOzaPaaKo0lqKc/Trev8eIz8TqzqTpC7tWyzVRa8yY949XXVnlY1ETcozie9Mv1NctUXrdVN2mKqJ9pfH9R9DaDcoruWKYtXvpy4urvrJrs+nUXkbduURFqfJv/E+71e4bNe0k5qpmaPmHvt/6V1+z3K5uWpqtx7xDxtv3mq1b/ZtXT5tj07+tL2SY5zeDn5j5euxhqze8vtMZh7LcrdqLtdVif3c+zwv2WqqOXGcfJ2a9NS79s3poinlROc+ziou1UTnLNyiaJcdU8qcJeSrI+26S6y1W1XIomqbun/yzPeP6O5tg3vS7zpYu6auM+8PzFamaJzS+n6Y3u/tmrovWKpxn8qM+rnlxY888+0/o/RsTkep6f3ixu2hovWaomZjvD2fJ8zPC4XVdZdtMyZSZZVUVABFBGOTVTANCGfsaE5HJkF5MgKCZMgqsZaZFEZpkHLn7BmlFaVDP2AM8mgM/Zn7GAbj2GaWgedSAoIo0AFIiwrKwCgAAANACA2IAAwIoyAgKrKgrbFIA2w2CVslQBTDkZoUFEYBsYXP2CC5+0ADLOQcep09rVWpov24ron2l1L1/0Z+x89boIzbnvMQ7fcV+1RetV2r1MVUT6xLfHyXju4zZt+W6LV2uZjjXMR6zh7rTbjbt2IsX7EV0R2zHq70tdN7Zbt10xp6MV+vZ8xvfh5pNRmrRVeXX8PoY9bj/ALxzvHXWV7SaDW266rF2KLn+Wez5nU2ZtVzH6sPpuqNlv7Be4X5zn0l83FU3KvXLvbjnNww3HjuSzcmiqO5cp4SxU5SarXt9l0n1Dd2jXUVRVPkVT+8o/wD13lt+sta7S0X7FUTRVGez8waa7MS7M8NuoJ0mojQ6ir91c/w8+30dRxTnx757Zl7K7b5HJnMTTmP0q+U7NK46FBeSspyBXGtUoDbHIQaXkiAGTIMgJlBRphQCmWZkpFci8mFpBvk0wzlBo5ImVDKs1FILlpgyD2gQ00MpCgAAjQy0AAAJlQcgw2IDDYAMA2w2wCADIqLkFAVAgAaZACmprLDORHLlnkxloG2ETINLDKZRpamcmXHWDliTLi5NcgaZqMplR0n4n7ZuU7pXfvc69N/D9PgrVGJnk/Tm66CzuOjuWL9ETEx2+nQHVO0Xdo3K5arpmKM9pfQ6Tll/hXLOPQXoiKcS8XvEvIvTmcuGqM0PRyTZh4Lc4uZez0d2q1diqicTE5on7epj0+3mWKvwiV4qmT9DdH7nG57LYvZ/PHd7t1r4VazE6jTZ7friHZL5nVcfZy2R047uKxyUcGlBhlBFyjSplUBpkEZFEMgogKioAkrSCK0ZZyUqORkQFEACJEBpAB7WGgaGQAABBploAZAaABQBAAG2AUAEFBFYUQBQQFBAETKZEaZEyIplDILkZyZBcmUyZBUAATKACA0f/j4/xA2Gndtsru26f39uMvr5YnExMVd4n1XC3C7h2vy5qrNVm7Xbr7TE4eLU7C8TdgnQ6ydVYp/dXO/Z17U+thyTkm45uOmcTLns1+rxZ/U8uzEYxScfsr7fw5102N+tRPpcjg7sie788dM3vI3jSV/FyH6Es1c7VM/MPP109U42mmR891EVAEGeQLlMiMtAICozyaj2AVjk0KDGV5AAR7IrSQoooCCZVBRcoAKhkyD2zTI0AAgABS0AAy0oytKgAqCKioCgAgAKCchhUoVjkDbByZyDVMjOTIpkTKCNDA1pWxx5MoKIZXYplAGuRyQZZTJljkchW+RyceTIjkYZykyK9bv+2Wt12y7p7kRMzH4y/OW9aKrbtwv6euP0y/T0ul/Fvap024xrKI/C56u/TZay0V10tuqaasszLURnD3MPb7Pcj9ptVZ7xcj/y/RO31ctHZn+WH5u0GKbtGJ9Jh+jNnqztunn+WGOt/wAUTD280yD5jqCZUEZEABGWgM/bPIGhmloGABQEBRMgNAIrYACKgACgAD20gtLQg0yIFIUgNMigUjQAAAM0iNoAAJkEXKANsByGDKM8u68lVWajkzn7UBMkyBkyM5BrIzkQaZyzkyDeUyzkyDRlnIBVJkZBeRyQAyZGeSMrkymQVKpfC+LMROxUzNvnifV9xPs+Q8T64p6buRPvLXH/AHhk/P8AXP6nk3LF21Zt3K4xFXeHDXGZe13XUxf0+mtU+lujD6fb5Y29bp/M82IomfV+kumIrjZtP5k5njD877bbmrUxx+Yfo7ZKOG1aeP5Ycepnbxf/AEl8vPyZVl890aGQBnk0g0zyZbYBsBkYMgKgqAAAAA5BlplVEFBloQGWmVoAA9w0y02MtAIyAoAAigBkAAAQAABAARQ5JyVjP2rIJkyBkTKZQaTKZZyDSJlOQKMcjko2nJnkkzkF5K48mUG+RyYyZUXKsmQDJkyguWKjKZBpMs8jkC5ddeL2tijQWtNE96p7uw5qiimZn0h0T4i7p+377cponNFvs7dPhvkTJ8fV6uW76Q45bvTmX03J7XpixOo3K1RH8dyH6H0lPlaa3b+IdGeG1vz+oLVHHMUd8u+IjEvJ1ufiYNcc82qlKjwOionJlBoAaYAAABQBWQIZAgAAAaARWgAAAGWgBlpko9wA2AACAIrPJRRRAFQAABAQyAADKckz9plRc/Zn7TKAuUyzkyMmTInIDkVSzyTP2ovJM/aZTILkymQGmcs5Mg1kyjOUG8jOUyC5EynIFylIAcmeSs5+1Gsph4+q1NrTWa7t+qKKI9ZY0uqs6q1F2xXFdE/DOkeB1XuNG27LqLsziZjEPz5qb03r1y7XOZrnLsTxY3aa71Gion8I9XWlT6fS8esdsZ098s1StVWIlNPbm9eiId0doeDuizXqdZXT9RLtal810HoI27YLFOPzrjMvpJn1fM6m75K6YelEymXAaGQGgBtgBAABRAUAj2ARUZAAGgEUAAABoGQaZaZKPbqQNiKgIAmQUQBnk0ChSqABkBEyZQBOTNVRyOQIM5MqKmUyZBWU5Jn7VlpmZTJIGUEQVEAVnKALlmmRnP2o2M8meSjXI5M8kByDHJnINHJnKguWZky+W6x6psbJpa6aK4nUTHaISS53UR894q7/AE2tP+wWKvzr/ViXxfS3VOt2i9RFV2bmkj1ifZ6Dc9be3LW3NRfnNdc+nw8O9cmm3NHpl9LDjmGOqxt77rHqCjet2m9ZpxQ9D5ky4dLRbnnFf6/ZzxERGEw9FOb6PozbZ1+7WLdMZjlmf6PnrNua7mHdPhrsUaLRftl6n95c9HTv+PG51Pfh9zYtxZtUUUelEYczJl8p1aEyrKNMBSNtsADbAAioAomVQABQAATksewFKgwoJyUAAGhloGQn3SoV7hUG0ABEAAGQGmTkzyBcmUTKi5TKZMgvJMs1JkRcmWcgNMpkyC5TIxyBrkrHJAXLOTLOVG2OQzyGWjkxn7M/ajQxlnKDQiZXY1lGcmUGhFBRjK5XYv8AsnKTl3fL9ZdTWNl0VdMVROomMREElt1EcPWnVdjZtNXbt1ROontEQ6P3Lcb246qu9qLk11zP+jG67jf3HV3L+pqmZmf9HgeZxnL38eE44xfLzrfGzTNy56+0PAvXZuXJqq91u3Juzn/ZyaXSTfqnviI91ztz8RrGaYszmcx7Fdc85auRFvMUsYmZP6q8/RX4tV0VRGZicu6/Dncdx12lrnW2uFqP8P8Ao+A6A6UubnfjUaimY0tE57+7uzR2LWmsxas0RRRHaHPm5J29l9pJ528kZyPE00qJSDTOVEaWkQBRAAAFARQAGKm2GwAYBtWeSiqIoAyMaXTQMg0AI9uA2AAIzyGeQip+lM/aZBtgyzkG8/aTLOUyC5TkjGVGuTOUyZBpnJlJkG+TPJjJkRvkzlMpkG2coAZTIgJn7TJkaZEZqlAXKs5MoLlMs5TILkyzn7M/YjWWqZcefsz9g5Gsfbjer3LfdDttyLeqvRTXPsSbV6zrPqqzsNiaae9+uOzpPeNzv7pqq7+pqmZn0j4e78Q9/s7zuGNPH4W+3J8dVX8PdwyYTd9s1iucVOCuqZbrnuzTTzqwty2vatl5tN3y6JiPR42OMJnMty9jOttTPOp7zpvpzW7zXM6aj8KPeXB01st/eddRYsUzxz+VXxDv/p7Z7GzaCjT2KY7R3lyyz7Jv9jXTejnQ7RYsVxEV0R3w9rCTLTx27u63FWlkzhBoRaZGl9EyM0g00zS0AMiBlpkpBoZyzyFaEUGxg5INsAAAK2lDCg5EGAciACUNONyUg9uM5UEyZTkzyBkyM5EVnJlAXJlMgGWeSoCZQRRWcmUyDTHI5AGTKZBDJlMgLkY5HIDkhyYyDSZRMgqBkEMgCZTkckBmqSKma5iImZ9Iel1nUm2aPn5upozHss8j3eUrvW7NNVVyuKIj3l1xvHiTpbWadDRNc/L4XeOrNz3OZi5emm3PtDrjw5VnbtLqfrjRbbbrt6WqLt/6dO73u2o3TV16jUVzMz6Rn0evruTXMzVNUzPy4a68PThxzBO5arjjmtxVVd1pzK5Uxc9m3VeqiiiMzLmu2p0tXl1x+bOjuVWauVE4mC9crvXJqrzMk/iOKqedTy9t2+9uGrt2LFMzXXOHjUUVV1RTT6z2dt+HWh0mjooqinzdTX61/DX62y+s6M6fs7Jt9FPGPOmM1S+kj1SlXz887nd1uQaZpaRoUQFSkUARQSlpnKgqKiAIsAACioAAAoi0ooioAqAKByA5AANsHIHuOTPJnkzkGqqmcplMguUkyZAMs8gGmeQAxn7TKZTIizJlMs5BvKM8mcqNcmcpkBtnknJBFOSJkDKsmQEMpkFyiZTkC5TkzycVd23R+uqI/rIOXknN67V7vodPEze1FuP7vm916+2zRxMWavNrj4WY2j7b/wAuDUamzYpmb12iiI+ZdR7h4lau9Expbfl/cvj9y6h3LXVzN/UVcZ9ol1w4bfbO3bXUnW23aWxdsWa/MuTGOzpTW6mq/qrt2ap/Kc4mXDN2ZnMyxXV2enDjmCdzXNqK4+Xj5JlvY5Zud2KpyxTE1PIotRHeWfNPEcNq3NU/yubjENxFVyvjbpmZ+n0+wdG7juVcVV0Tbo+Zh0kkjG6+Yoomr2fa+HOyxuWvuRftc7ER3mYfZbb4d6K1RROormuuPWH2W07XpNstcNJaiiHHk5sZPDUlfL6rw+2y9f8AMoiaI+IfTbRtGm2yzFvTW8Y93ssDy3ky1rbWgEYabEhUABQSlGgBMqCUtIoAAAnJUUE5NAgKCAAACgCAqAAqAKAAAPY5MpkyAiVSxyBeScmapTIN8jkxkyC5TKZTINIzlMiNM5Mpn7BUM/acgXP2nJnkzkGuQzlQVnkzyOSjWRMmRCZQ5AM4ev1+66PQUzVqL1FGPtz67l+y3YtzivHaX586l1esq3O/b1V6uvFXpns68XH31m12dvPiFoLNmunSTNdz2l1juXVW5627XVVqK6KJntES9FXV9uPm9M4scPQ8y9uGovf4l6uv+svH8zPq4c91bZbmqYYzlmo+WNtJVLGYaWmKpnFMZTaMxGXLRR3zL2m2dP7luE0+Rp68T7zD6OroHX2bPO9Pf4iGsbP2ZPjKfiIfSdMdJa3ebsVTTNux7zL7LpfoKmKov7hHb2pdk6TS2tNaiixTFNEfDHJyyeIzI+d2Po3bdtponyouXI9Zl9RZtU2oxbpiI+IWIcry3O323peKwxyaZaaGeQDTJyAGmeLQAAAx+TWQUTK5ABQBOSiiACgAnI5CgKiUyCoVKKZAQFQBUAFpCkAAB52WeSM5BrkzlnJkATKZBcjLPIHImWORyBc/YnJnkI1yOTjqTIN8mcplMguVZymQUTICGRMqKJKAuXja/W2NFZ83U1cKHkPW7zttndNHXp7+eM+8E1vyj4PrHqnVXKuO1XYrtT64dXa+u7fu13bmZrn1mXaNXh5dtXZnT6yYon5cf/Tu9VX+81MTTPr2fQx5OGTUctV1HiU/S+26q6Y0+yxj9o53J9nx/kVzVMexJubjXc4vY/J5lGn+Zc+n0c3bnG3TNcz7Q3OKp3PW0UVVezybGivXquNu3Mz9Q++6e6F1Gspou6n93b+JdibJ0xodso/C1FdfzMOeefHh/wCrLa6j2foXctbVFVVHl0fb7/Y/D7Q6Oqi7qv3tyPZ95RbimMRGFw82fNb6XTx7Gks6ejjZoiiI+IclVEVesOQpcdtJFOG+I2DFLYAqAAqKAcQ5ADPJoGmQBpkAQEFVaGVBsYbAGaGgGaGgAABcoIqiKAmVQFQWAVBMA01yZAAAeRlMoASmTKAcmeTPIBrkzyTKA1yRAEyZTJkQyZZz9gLlM/YADIo1n7Z5JVIguWcqmVDJkAVFAZwktoI+G6z6aubj+enp53PmZdV6zQ3tJqa7FymfMicYfozD1Wp2HQ6rWRqb1mJuQ9XD1Px+L6YuO3VPT3SOs3GaK71M27E/LsnZuldBtuKqKIrr+Ze/t26bdPGiIiI9ocjHJ1OWZMIzRTERiIxDa0jg2A2DBxa4qDDYAwNgAoACAAAkACgQAZAAyAAtPqi0+oNjDYMrSgg0ACQoQKAAKAIoAAAKgChS2DAAOXLNUjFQHJMplMguRnJkFyZTLj5A5MmXHyOQLlWcmVUEBlMmVQDJllOQNclZAaGQGk5IA0MgLyUAUAATKgtIANMgDQysAoAAAJlQAAAAAAAgAAAFAQFpQgG2TKZBQpAaTKpkVQAFQBRAFAAABKVAFbcVLXIGwAYZqkykyBMoVM8gTJlDKqCM5DbSJkyIozkpBeRyZ5M5EcnJmtnJkG2WcgNDOQGhlafUG05I0AlCgNAACgAicgaVjk0CiLkGgAMgAAAAABkAABRDP2goQABEgAgCiKCAA1SuWKWhQaZBoZayAGTIAuQEpUAAAEpUAVFYrcaTDVLYr//Z\n",
            "text/plain": [
              "<IPython.core.display.Image object>"
            ]
          },
          "metadata": {
            "tags": []
          }
        },
        {
          "output_type": "display_data",
          "data": {
            "image/png": "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\n",
            "text/plain": [
              "<Figure size 432x288 with 1 Axes>"
            ]
          },
          "metadata": {
            "tags": [],
            "needs_background": "light"
          }
        },
        {
          "output_type": "stream",
          "text": [
            "Dự đoán: [8]\n"
          ],
          "name": "stdout"
        }
      ]
    },
    {
      "cell_type": "code",
      "metadata": {
        "id": "ufNQOJSMI_bE"
      },
      "source": [
        "# Giải nén tệp dữ liệu đã chụp sẵn bằng nhiều phương thức chụp khác"
      ],
      "execution_count": null,
      "outputs": []
    },
    {
      "cell_type": "code",
      "metadata": {
        "colab": {
          "base_uri": "https://localhost:8080/"
        },
        "id": "7mfbenJfXl8C",
        "outputId": "24debb81-1177-4d3e-9b4d-eb77610a61d7"
      },
      "source": [
        "from zipfile import ZipFile\n",
        "file_name = 'Digits_Image.zip'\n",
        "with ZipFile(file_name , 'r') as zip1:\n",
        "  zip1.extractall()\n",
        "  print('Done')"
      ],
      "execution_count": 9,
      "outputs": [
        {
          "output_type": "stream",
          "text": [
            "Done\n"
          ],
          "name": "stdout"
        }
      ]
    },
    {
      "cell_type": "code",
      "metadata": {
        "id": "doQAKSL6JII_"
      },
      "source": [
        "# Thực hiện dự đoán và tạo bộ dữ liệu kết quả dự đoán dựa trên file đã giải nén"
      ],
      "execution_count": null,
      "outputs": []
    },
    {
      "cell_type": "code",
      "metadata": {
        "id": "jh8IfXBeeOzH"
      },
      "source": [
        "import glob\n",
        "from google.colab.patches import cv2_imshow\n",
        "\n",
        "imgs = []\n",
        "predicted = []\n",
        "\n",
        "path = \"/content/Digits_Image/*.*\"\n",
        "for file in glob.glob(path):\n",
        "   a = cv2.imread(file) \n",
        "  # Sửa đổi ảnh để phù hợp với yêu cầu đầu vào thuật toán \n",
        "   b = cv2.resize(a, (8, 8), interpolation = cv2.INTER_AREA)\n",
        "   b = cv2.cvtColor(b, cv2.COLOR_BGR2GRAY)\n",
        "   b = 16-(b/16)\n",
        "   b = cv2.normalize(b, None, alpha = 0, beta = 15, norm_type = cv2.NORM_MINMAX, dtype = cv2.CV_32F)\n",
        "   b = b.reshape(1,64)\n",
        "  # Xử lý dữ liệu ảnh sau sửa đổi\n",
        "   b = np.round(b)\n",
        "  # Tạo bộ dữ liệu ảnh đã xử lý \n",
        "   imgs.append(b)\n",
        "  # Tạo bộ dữ liệu kết quả dự đoán\n",
        "   c = clf.predict(b)\n",
        "   predicted.append(c[0])\n"
      ],
      "execution_count": 34,
      "outputs": []
    },
    {
      "cell_type": "code",
      "metadata": {
        "id": "9XipI5wsJYxf"
      },
      "source": [
        "# In kết quả ra màn hình"
      ],
      "execution_count": null,
      "outputs": []
    },
    {
      "cell_type": "code",
      "metadata": {
        "id": "xWrXKd0qtUVT",
        "colab": {
          "base_uri": "https://localhost:8080/",
          "height": 1000
        },
        "outputId": "6007e8aa-285b-4f9d-9476-f0106962e144"
      },
      "source": [
        "# Tạo bộ dữ liệu giá trị gốc của số trong ảnh\n",
        "truth = [5, 2, 2, 4, 7, 8, 9, 7, 3, 9, 9, 3, 3, 5, 1, 8, 7, 4, 0, 1, 2, 7, 4, 0, 3, 2, 0, 1, 7, 7, 4, 0, 1, 9, 2, 3, 6, 7, 8, 1, 3, 7, 5, 8, 3]\n",
        "\n",
        "# In kết quả ra màn hình\n",
        "for i in range(1,9):\n",
        "  _, axes = plt.subplots(nrows=1, ncols=5, figsize=(23, 23))\n",
        "  for ax, image, gt, prediction in zip(axes, imgs[(i-1)*5:(i-1)*5 + 5], truth[(i-1)*5:(i-1)*5 + 5], predicted[(i-1)*5:(i-1)*5 + 5]):\n",
        "      ax.set_axis_off()\n",
        "      image = image.reshape(8, 8)\n",
        "      ax.imshow(image, cmap=plt.cm.gray_r, interpolation='nearest')\n",
        "      ax.set_title(f'Giá trị gốc:{gt}\\nDự đoán: {int(prediction)}')\n"
      ],
      "execution_count": 55,
      "outputs": [
        {
          "output_type": "display_data",
          "data": {
            "image/png": "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\n",
            "text/plain": [
              "<Figure size 1656x1656 with 5 Axes>"
            ]
          },
          "metadata": {
            "tags": [],
            "needs_background": "light"
          }
        },
        {
          "output_type": "display_data",
          "data": {
            "image/png": "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\n",
            "text/plain": [
              "<Figure size 1656x1656 with 5 Axes>"
            ]
          },
          "metadata": {
            "tags": [],
            "needs_background": "light"
          }
        },
        {
          "output_type": "display_data",
          "data": {
            "image/png": "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\n",
            "text/plain": [
              "<Figure size 1656x1656 with 5 Axes>"
            ]
          },
          "metadata": {
            "tags": [],
            "needs_background": "light"
          }
        },
        {
          "output_type": "display_data",
          "data": {
            "image/png": "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\n",
            "text/plain": [
              "<Figure size 1656x1656 with 5 Axes>"
            ]
          },
          "metadata": {
            "tags": [],
            "needs_background": "light"
          }
        },
        {
          "output_type": "display_data",
          "data": {
            "image/png": "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\n",
            "text/plain": [
              "<Figure size 1656x1656 with 5 Axes>"
            ]
          },
          "metadata": {
            "tags": [],
            "needs_background": "light"
          }
        },
        {
          "output_type": "display_data",
          "data": {
            "image/png": "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\n",
            "text/plain": [
              "<Figure size 1656x1656 with 5 Axes>"
            ]
          },
          "metadata": {
            "tags": [],
            "needs_background": "light"
          }
        },
        {
          "output_type": "display_data",
          "data": {
            "image/png": "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\n",
            "text/plain": [
              "<Figure size 1656x1656 with 5 Axes>"
            ]
          },
          "metadata": {
            "tags": [],
            "needs_background": "light"
          }
        },
        {
          "output_type": "display_data",
          "data": {
            "image/png": "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\n",
            "text/plain": [
              "<Figure size 1656x1656 with 5 Axes>"
            ]
          },
          "metadata": {
            "tags": [],
            "needs_background": "light"
          }
        }
      ]
    },
    {
      "cell_type": "markdown",
      "metadata": {
        "id": "mqt3TIh_Gmnp"
      },
      "source": [
        "=============================================================\n",
        "\n",
        "Kết quả thực nghiệm:\n",
        "\n",
        "Số ảnh đầu vào    : 40\n",
        "\n",
        "Số lượng đoán đúng: 12/40 \n",
        "\n",
        "Số lượng đoán sai : 28/40\n",
        "\n",
        "Độ chính xác      : 30%\n",
        "\n",
        "============================================================="
      ]
    }
  ]
}

{
      "cell_type": "markdown",
      "metadata": {
        "id": "YZ-tKOZzJDzh"
      },
      "source": [
        "# **Trả lời câu hỏi**\n",
        "\n",
        "---\n"
      ]
    },
    {
      "cell_type": "markdown",
      "metadata": {
        "id": "v4rj-G1FNy8X"
      },
      "source": [
        "# Kết quả chạy thực tế với webcam của laptop và giấy viết tay có tốt không?\n",
        "\n",
        "* Kết quả chạy thực tế bằng webcam của laptop và giấy viết tay cho ra kết quả có độ chính xác chỉ 30%. Từ đây có thể kết luận kết quả thực tế kém hơn so với kết quả chạy trên bộ test mẫu.\n",
        "\n",
        "#Dựa vào đâu để kết luận là tốt hay không?\n",
        "Dựa vào kết quả dự đoán so với giá trị gốc của tấm ảnh đưa vào.\n",
        "\n",
       
        "\n",
        "#Nếu không tốt thì lý do tại sao?\n",
        "\n",
        "\n",
        "* Ảnh chịu nhiều yếu tố bên ngoài như ánh sáng, độ tương phản giữa chữ số và màu nền, tỷ lệ kích thước giữa chữ số và khung ảnh,...  .\n",
        "* Model chỉ dự đoán dựa trên ảnh chỉ có kích thước 8x8 nên đối với các bức ảnh có độ sắc nét cao khi đưa về 8x8 sẽ gây mất mát dữ liệu làm tấm ảnh trở nên khó nhận dạng vật thể nên gây khó khăn khi dự đoán  .\n",
        "* Lượng ảnh trong dataset khá nhỏ chỉ 1792 ảnh.\n",
        "\n",
        "#Nếu tốt thì tiếp theo có thể dùng model digits recognition này vào các bài toán phức tạp hơn như nhận dạng biển số nhà không?\n",
        "\n"
        "* Không thể dùng để nhận biết biển số nhà vì model chỉ nhận diện được các giá trị một chữ số, ngoài ra việc chụp ảnh để dự đoán phải tiến hành với tỷ lệ kích thước chữ số so với khung ảnh phải cao đồng nghĩa việc camera phải đặt sát biến số nhà nên gây khó khăn khi chụp ảnh .\n",
        "\n",
        "\n",
        "* Nguồn dữ liệu ảnh chụp bằng webcam và nhiều hình thức khác: https://drive.google.com/drive/folders/1-UJjqw9uYI3x7tc6Vn1Kn6zavIcMideR?usp=sharing   .\n",
        "\n",
        "\n",
        "\n",
        "\n",
        "\n"
        
      ]
    }
  ]
